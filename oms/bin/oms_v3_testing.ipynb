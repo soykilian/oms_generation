{
 "cells": [
  {
   "cell_type": "code",
   "execution_count": 18,
   "metadata": {
    "collapsed": true,
    "ExecuteTime": {
     "end_time": "2023-08-15T01:14:49.329785417Z",
     "start_time": "2023-08-15T01:14:48.397051188Z"
    }
   },
   "outputs": [
    {
     "name": "stdout",
     "output_type": "stream",
     "text": [
      "The autoreload extension is already loaded. To reload it, use:\n",
      "  %reload_ext autoreload\n"
     ]
    }
   ],
   "source": [
    "%load_ext autoreload\n",
    "%autoreload 2\n",
    "import tonic\n",
    "from torch.utils.data import DataLoader\n",
    "from tonic import DiskCachedDataset\n",
    "import torch\n",
    "import torchvision\n",
    "import snntorch as snn\n",
    "from snntorch import surrogate\n",
    "from snntorch import functional as SF\n",
    "from snntorch import utils\n",
    "import numpy as np\n",
    "import os"
   ]
  },
  {
   "cell_type": "code",
   "execution_count": 24,
   "outputs": [],
   "source": [
    "ROOT_DIR = \"/home/aryalohia/PycharmProjects/iris/version-2\"\n",
    "results_dir = os.path.join(ROOT_DIR, 'VSim_dataset/', 'results/')\n",
    "model_dir = os.path.join(ROOT_DIR, 'models/')"
   ],
   "metadata": {
    "collapsed": false,
    "ExecuteTime": {
     "end_time": "2023-08-15T01:15:18.993230153Z",
     "start_time": "2023-08-15T01:15:18.951014082Z"
    }
   }
  },
  {
   "cell_type": "code",
   "execution_count": 20,
   "outputs": [],
   "source": [
    "# animation = tonic.utils.plot_animation(frames=convert_to_frame.detach().cpu())\n",
    "# animation.save(\"data_sample.mp4\")"
   ],
   "metadata": {
    "collapsed": false,
    "ExecuteTime": {
     "end_time": "2023-08-15T01:14:49.694329259Z",
     "start_time": "2023-08-15T01:14:49.681313988Z"
    }
   }
  },
  {
   "cell_type": "code",
   "execution_count": 21,
   "outputs": [],
   "source": [
    "# PARAMETERS\n",
    "batch_size = 1\n",
    "sensor_size = (240, 180, 2) # Davis240"
   ],
   "metadata": {
    "collapsed": false,
    "ExecuteTime": {
     "end_time": "2023-08-15T01:14:49.905938686Z",
     "start_time": "2023-08-15T01:14:49.893378561Z"
    }
   }
  },
  {
   "cell_type": "code",
   "execution_count": 25,
   "outputs": [
    {
     "name": "stdout",
     "output_type": "stream",
     "text": [
      "converted `data_dir` to relative path: ../VSim_dataset/results\n",
      "Loading training VSim_dataset from events.h5 and ref-events.h5 files, or from .npy files if already converted\n",
      "All input-events are converted to event-frames\n",
      "All reference-events are converted to event-frames\n",
      "All events-frame files are ready\n",
      "Dataset is ready to be used \n"
     ]
    }
   ],
   "source": [
    "# DATA\n",
    "from oms_generalized_kernels.event_dataset import IrisDVSDataset\n",
    "\n",
    "frame_transform = tonic.transforms.Compose([])\n",
    "\n",
    "train_dataset = IrisDVSDataset(\n",
    "    sensor_size=sensor_size,\n",
    "    transform=frame_transform,\n",
    "    data_dir=results_dir\n",
    ")\n",
    "\n",
    "train_loader = DataLoader(train_dataset, batch_size=1, shuffle=True)  # Pytorch Dataloader\n",
    "test_loader = None  # Pytorch Dataloader\n"
   ],
   "metadata": {
    "collapsed": false,
    "ExecuteTime": {
     "end_time": "2023-08-15T01:15:21.396823032Z",
     "start_time": "2023-08-15T01:15:21.370739159Z"
    }
   }
  },
  {
   "cell_type": "code",
   "execution_count": 26,
   "outputs": [],
   "source": [
    "def plot_animation(frames: np.ndarray, figsize = (5, 5), save_path = None):\n",
    "    \"\"\"Helper function that animates a tensor of frames of shape (TCHW). If you run this in a\n",
    "    Jupyter notebook, you can display the animation inline like shown in the example below.\n",
    "\n",
    "    Parameters:\n",
    "        frames: numpy array or tensor of shape (TCHW)\n",
    "        figsize: tuple(int, int) specifying the size of the figure\n",
    "\n",
    "    Example:\n",
    "        >>> import tonic\n",
    "        >>> nmnist = tonic.datasets.NMNIST(save_to='./data', train=False)\n",
    "        >>> events, label = nmnist[0]\n",
    "        >>>\n",
    "        >>> transform = tonic.transforms.ToFrame(\n",
    "        >>>     sensor_size=nmnist.sensor_size,\n",
    "        >>>     time_window=10000,\n",
    "        >>> )\n",
    "        >>>\n",
    "        >>> frames = transform(events)\n",
    "        >>> animation = tonic.utils.plot_animation(frames)\n",
    "        >>>\n",
    "        >>> # Display the animation inline in a Jupyter notebook\n",
    "        >>> from IPython.display import HTML\n",
    "        >>> HTML(animation.to_jshtml())\n",
    "\n",
    "    Returns:\n",
    "        The animation object. Store this in a variable to keep it from being garbage collected until displayed.\n",
    "    \"\"\"\n",
    "    try:\n",
    "        import matplotlib.pyplot as plt\n",
    "        from matplotlib import animation\n",
    "    except ImportError:\n",
    "        raise ImportError(\n",
    "            \"Please install the matplotlib package to plot events. This is an optional\"\n",
    "            \" dependency.\"\n",
    "        )\n",
    "    fig = plt.figure(figsize=figsize)\n",
    "    if frames.shape[1] == 2:\n",
    "        rgb = np.zeros((frames.shape[0], 3, *frames.shape[2:]))\n",
    "        rgb[:, 1:, ...] = frames\n",
    "        frames = rgb\n",
    "    if frames.shape[1] in [1, 2, 3]:\n",
    "        frames = np.moveaxis(frames, 1, 3)\n",
    "\n",
    "    frames = (frames / frames.max()) * 255\n",
    "\n",
    "    print(frames.shape)\n",
    "\n",
    "    import skvideo.io\n",
    "    from tqdm import tqdm\n",
    "    writer = skvideo.io.FFmpegWriter(save_path, inputdict={\"-r\": str(1000)},\n",
    "                                     outputdict={'-vcodec': 'libx264', '-r': str(1000)},\n",
    "                                     verbosity=1)\n",
    "\n",
    "    for i in tqdm(range(frames.shape[0]), desc=\"writing video\"):\n",
    "        writer.writeFrame(frames[i])\n",
    "\n",
    "    # Release capture and destroy windows\n",
    "    writer.close()\n",
    "    return"
   ],
   "metadata": {
    "collapsed": false,
    "ExecuteTime": {
     "end_time": "2023-08-15T01:15:23.028803219Z",
     "start_time": "2023-08-15T01:15:23.009453410Z"
    }
   }
  },
  {
   "cell_type": "code",
   "execution_count": 44,
   "outputs": [
    {
     "data": {
      "text/plain": "OMSV3Network(\n  (center): Conv2d(1, 1, kernel_size=(4, 4), stride=(1, 1), padding=same)\n  (surround): Conv2d(1, 1, kernel_size=(10, 10), stride=(1, 1), padding=same)\n)"
     },
     "execution_count": 44,
     "metadata": {},
     "output_type": "execute_result"
    }
   ],
   "source": [
    "# NETWORK\n",
    "device = torch.device(\"cpu\") if torch.backends.mps.is_available() else torch.device(\"cpu\")\n",
    "\n",
    "from oms_generalized_kernels.oms_v3_network import OMSV3Network\n",
    "net = OMSV3Network(center_rad=2, surround_rad=5)\n",
    "net.load_state_dict(torch.load(os.path.join(model_dir, \"Mon_Aug_14_15:19:18_2023.pth\")))\n",
    "net.eval()"
   ],
   "metadata": {
    "collapsed": false,
    "ExecuteTime": {
     "end_time": "2023-08-15T01:22:41.302766051Z",
     "start_time": "2023-08-15T01:22:41.284115189Z"
    }
   }
  },
  {
   "cell_type": "code",
   "execution_count": 45,
   "outputs": [],
   "source": [
    "from tqdm import tqdm\n",
    "\n",
    "def forward_pass(net, data):\n",
    "    # VSim_dataset should be shape (num time steps, batch_size, channels, height, width)\n",
    "    # net.to(device)\n",
    "    # VSim_dataset.to(device)\n",
    "\n",
    "    batch_size = data.shape[0]\n",
    "    num_time_steps = data.shape[1]\n",
    "\n",
    "    data = data.reshape(num_time_steps, batch_size, 2, 180, 240)\n",
    "    data = data[:, :, 0] + data[:, :, 1]\n",
    "\n",
    "    out_rec = []\n",
    "\n",
    "    for step in tqdm(range(data.shape[0])):  # VSim_dataset.size(0) = number of time steps\n",
    "        # print(data[step].shape)\n",
    "        out = net(data[step] / data[step].max())  # norm VSim_dataset to 1\n",
    "\n",
    "        out[np.where(out >= .4)] = 1\n",
    "        out[np.where(out < .4)] = 0\n",
    "\n",
    "        out_rec.append(out.view(batch_size, 1, 180, 240))\n",
    "\n",
    "    return torch.stack(out_rec)\n",
    "\n"
   ],
   "metadata": {
    "collapsed": false,
    "ExecuteTime": {
     "end_time": "2023-08-15T01:22:43.478503133Z",
     "start_time": "2023-08-15T01:22:43.453772606Z"
    }
   }
  },
  {
   "cell_type": "code",
   "execution_count": 46,
   "outputs": [
    {
     "name": "stderr",
     "output_type": "stream",
     "text": [
      "100%|██████████| 4991/4991 [00:28<00:00, 175.80it/s]\n"
     ]
    }
   ],
   "source": [
    "# first_forward = net(torch.from_numpy(train_dataset[5][0][np.newaxis, ...]).float().reshape(-1, batch_size, 2, 180, 240)[0])\n",
    "first_forward = forward_pass(net, torch.from_numpy(train_dataset[0][0][np.newaxis, ...]).float())"
   ],
   "metadata": {
    "collapsed": false,
    "ExecuteTime": {
     "end_time": "2023-08-15T01:23:13.650103025Z",
     "start_time": "2023-08-15T01:22:43.889693603Z"
    }
   }
  },
  {
   "cell_type": "code",
   "execution_count": 47,
   "outputs": [
    {
     "data": {
      "text/plain": "tensor(1., grad_fn=<MaxBackward1>)"
     },
     "execution_count": 47,
     "metadata": {},
     "output_type": "execute_result"
    }
   ],
   "source": [
    "first_forward.max()"
   ],
   "metadata": {
    "collapsed": false,
    "ExecuteTime": {
     "end_time": "2023-08-15T01:23:13.720052851Z",
     "start_time": "2023-08-15T01:23:13.585166157Z"
    }
   }
  },
  {
   "cell_type": "code",
   "execution_count": 48,
   "outputs": [],
   "source": [
    "experiment = first_forward.detach().numpy()"
   ],
   "metadata": {
    "collapsed": false,
    "ExecuteTime": {
     "end_time": "2023-08-15T01:23:13.727881993Z",
     "start_time": "2023-08-15T01:23:13.668105805Z"
    }
   }
  },
  {
   "cell_type": "code",
   "execution_count": 50,
   "outputs": [
    {
     "data": {
      "text/plain": "<matplotlib.image.AxesImage at 0x7f9824c8de10>"
     },
     "execution_count": 50,
     "metadata": {},
     "output_type": "execute_result"
    },
    {
     "data": {
      "text/plain": "<Figure size 640x480 with 2 Axes>",
      "image/png": "[encoded data removed]"
     },
     "metadata": {},
     "output_type": "display_data"
    }
   ],
   "source": [
    "import numpy as np\n",
    "import matplotlib.pyplot as plt\n",
    "fig, ax = plt.subplots(ncols=2)\n",
    "\n",
    "ax[0].imshow(net.conv_filters[0].squeeze())\n",
    "ax[1].imshow(net.conv_filters[1].squeeze())\n",
    "# net.conv_filters"
   ],
   "metadata": {
    "collapsed": false,
    "ExecuteTime": {
     "end_time": "2023-08-15T01:23:23.009561926Z",
     "start_time": "2023-08-15T01:23:22.855798074Z"
    }
   }
  },
  {
   "cell_type": "code",
   "execution_count": 51,
   "outputs": [
    {
     "name": "stdout",
     "output_type": "stream",
     "text": [
      "(4991, 180, 240, 1)\n"
     ]
    },
    {
     "name": "stderr",
     "output_type": "stream",
     "text": [
      "writing video:   0%|          | 0/4991 [00:00<?, ?it/s]ffmpeg version 4.4.2-0ubuntu0.22.04.1 Copyright (c) 2000-2021 the FFmpeg developers\n",
      "  built with gcc 11 (Ubuntu 11.2.0-19ubuntu1)\n",
      "  configuration: --prefix=/usr --extra-version=0ubuntu0.22.04.1 --toolchain=hardened --libdir=/usr/lib/x86_64-linux-gnu --incdir=/usr/include/x86_64-linux-gnu --arch=amd64 --enable-gpl --disable-stripping --enable-gnutls --enable-ladspa --enable-libaom --enable-libass --enable-libbluray --enable-libbs2b --enable-libcaca --enable-libcdio --enable-libcodec2 --enable-libdav1d --enable-libflite --enable-libfontconfig --enable-libfreetype --enable-libfribidi --enable-libgme --enable-libgsm --enable-libjack --enable-libmp3lame --enable-libmysofa --enable-libopenjpeg --enable-libopenmpt --enable-libopus --enable-libpulse --enable-librabbitmq --enable-librubberband --enable-libshine --enable-libsnappy --enable-libsoxr --enable-libspeex --enable-libsrt --enable-libssh --enable-libtheora --enable-libtwolame --enable-libvidstab --enable-libvorbis --enable-libvpx --enable-libwebp --enable-libx265 --enable-libxml2 --enable-libxvid --enable-libzimg --enable-libzmq --enable-libzvbi --enable-lv2 --enable-omx --enable-openal --enable-opencl --enable-opengl --enable-sdl2 --enable-pocketsphinx --enable-librsvg --enable-libmfx --enable-libdc1394 --enable-libdrm --enable-libiec61883 --enable-chromaprint --enable-frei0r --enable-libx264 --enable-shared\n",
      "  libavutil      56. 70.100 / 56. 70.100\n",
      "  libavcodec     58.134.100 / 58.134.100\n",
      "  libavformat    58. 76.100 / 58. 76.100\n",
      "  libavdevice    58. 13.100 / 58. 13.100\n",
      "  libavfilter     7.110.100 /  7.110.100\n",
      "  libswscale      5.  9.100 /  5.  9.100\n",
      "  libswresample   3.  9.100 /  3.  9.100\n",
      "  libpostproc    55.  9.100 / 55.  9.100\n",
      "writing video:   0%|          | 2/4991 [00:00<06:03, 13.72it/s]"
     ]
    },
    {
     "name": "stdout",
     "output_type": "stream",
     "text": [
      "/usr/bin/ffmpeg -y -r 1000 -f rawvideo -pix_fmt gray -s 240x180 -i - -vcodec libx264 -r 1000 /home/aryalohia/PycharmProjects/iris/version-2/models/0.0.mp4\n"
     ]
    },
    {
     "name": "stderr",
     "output_type": "stream",
     "text": [
      "Input #0, rawvideo, from 'pipe:':\n",
      "  Duration: N/A, start: 0.000000, bitrate: 345600 kb/s\n",
      "  Stream #0:0: Video: rawvideo (Y800 / 0x30303859), gray, 240x180, 345600 kb/s, 1k tbr, 1k tbn, 1k tbc\n",
      "Stream mapping:\n",
      "  Stream #0:0 -> #0:0 (rawvideo (native) -> h264 (libx264))\n",
      "[libx264 @ 0x555560f73c00] using cpu capabilities: MMX2 SSE2Fast SSSE3 SSE4.2 AVX FMA3 BMI2 AVX2\n",
      "[libx264 @ 0x555560f73c00] profile High, level 3.2, 4:0:0, 8-bit\n",
      "[libx264 @ 0x555560f73c00] 264 - core 163 r3060 5db6aa6 - H.264/MPEG-4 AVC codec - Copyleft 2003-2021 - http://www.videolan.org/x264.html - options: cabac=1 ref=3 deblock=1:0:0 analyse=0x3:0x113 me=hex subme=7 psy=1 psy_rd=1.00:0.00 mixed_ref=1 me_range=16 chroma_me=0 trellis=1 8x8dct=1 cqm=0 deadzone=21,11 fast_pskip=1 chroma_qp_offset=-2 threads=6 lookahead_threads=1 sliced_threads=0 nr=0 decimate=1 interlaced=0 bluray_compat=0 constrained_intra=0 bframes=3 b_pyramid=2 b_adapt=1 b_bias=0 direct=1 weightb=1 open_gop=0 weightp=2 keyint=250 keyint_min=25 scenecut=40 intra_refresh=0 rc_lookahead=40 rc=crf mbtree=1 crf=23.0 qcomp=0.60 qpmin=0 qpmax=69 qpstep=4 ip_ratio=1.40 aq=1:1.00\n",
      "Output #0, mp4, to '/home/aryalohia/PycharmProjects/iris/version-2/models/0.0.mp4':\n",
      "  Metadata:\n",
      "    encoder         : Lavf58.76.100\n",
      "  Stream #0:0: Video: h264 (avc1 / 0x31637661), gray(progressive), 240x180, q=2-31, 1k fps, 16k tbn\n",
      "    Metadata:\n",
      "      encoder         : Lavc58.134.100 libx264\n",
      "    Side data:\n",
      "      cpb: bitrate max/min/avg: 0/0/0 buffer size: 0 vbv_delay: N/A\n",
      "writing video: 100%|██████████| 4991/4991 [00:05<00:00, 997.12it/s] /A speed=N/A    frame=  524 fps=0.0 q=30.0 size=    3072kB time=00:00:00.47 bitrate=53424.3kbits/s speed=0.939x    frame= 1048 fps=1045 q=33.0 size=    6400kB time=00:00:00.99 bitrate=52689.3kbits/s speed=0.992x    frame= 1558 fps=1036 q=33.0 size=    9728kB time=00:00:01.50 bitrate=52949.4kbits/s speed=   1x    frame= 2054 fps=1025 q=33.0 size=   13056kB time=00:00:02.00 bitrate=53449.2kbits/s speed=0.999x    frame= 2563 fps=1024 q=33.0 size=   16384kB time=00:00:02.51 bitrate=53472.0kbits/s speed=   1x    frame= 3088 fps=1027 q=30.0 size=   19968kB time=00:00:03.03 bitrate=53896.2kbits/s speed=1.01x    frame= 3604 fps=1027 q=33.0 size=   23296kB time=00:00:03.55 bitrate=53742.0kbits/s speed=1.01x    frame= 4121 fps=1028 q=33.0 size=   26624kB time=00:00:04.06 bitrate=53613.8kbits/s speed=1.01x    frame= 4643 fps=1029 q=33.0 size=   29952kB time=00:00:04.59 bitrate=53456.2kbits/s speed=1.02x    \n",
      "frame= 4991 fps=1018 q=-1.0 Lsize=   32748kB time=00:00:04.98 bitrate=53781.9kbits/s speed=1.02x    \n",
      "video:32714kB audio:0kB subtitle:0kB other streams:0kB global headers:0kB muxing overhead: 0.102495%\n",
      "[libx264 @ 0x555560f73c00] frame I:726   Avg QP:35.63  size:  8733\n",
      "[libx264 @ 0x555560f73c00] frame P:3511  Avg QP:38.34  size:  6019\n",
      "[libx264 @ 0x555560f73c00] frame B:754   Avg QP:39.73  size:  7990\n",
      "[libx264 @ 0x555560f73c00] consecutive B-frames: 74.5% 13.2%  8.2%  4.0%\n",
      "[libx264 @ 0x555560f73c00] mb I  I16..4:  9.9%  9.8% 80.3%\n",
      "[libx264 @ 0x555560f73c00] mb P  I16..4: 24.6% 19.4% 45.5%  P16..4:  2.9%  2.5%  1.1%  0.0%  0.0%    skip: 4.1%\n",
      "[libx264 @ 0x555560f73c00] mb B  I16..4: 13.8%  3.2% 32.9%  B16..8: 16.5%  8.4%  6.2%  direct:10.9%  skip: 7.9%  L0:40.3% L1:41.6% BI:18.1%\n",
      "[libx264 @ 0x555560f73c00] 8x8 transform intra:18.3% inter:9.2%\n",
      "[libx264 @ 0x555560f73c00] coded y intra: 68.8% inter: 52.1%\n",
      "[libx264 @ 0x555560f73c00] i16 v,h,dc,p: 76%  5% 16%  3%\n",
      "[libx264 @ 0x555560f73c00] i8 v,h,dc,ddl,ddr,vr,hd,vl,hu: 45% 18% 36%  1%  0%  0%  0%  0%  0%\n",
      "[libx264 @ 0x555560f73c00] i4 v,h,dc,ddl,ddr,vr,hd,vl,hu: 67%  5% 14%  2%  1%  3%  1%  4%  1%\n",
      "[libx264 @ 0x555560f73c00] i8c dc,h,v,p: 100%  0%  0%  0%\n",
      "[libx264 @ 0x555560f73c00] Weighted P-Frames: Y:70.2%\n",
      "[libx264 @ 0x555560f73c00] ref P L0: 51.7% 11.1% 25.6%  8.0%  3.5%\n",
      "[libx264 @ 0x555560f73c00] ref B L0: 91.0%  8.3%  0.7%\n",
      "[libx264 @ 0x555560f73c00] ref B L1: 99.5%  0.5%\n",
      "[libx264 @ 0x555560f73c00] kb/s:53694.12\n"
     ]
    },
    {
     "data": {
      "text/plain": "<Figure size 500x500 with 0 Axes>"
     },
     "metadata": {},
     "output_type": "display_data"
    }
   ],
   "source": [
    "animation = plot_animation(frames=np.float64(first_forward[:, 0].detach().numpy()), save_path=os.path.join(model_dir, \"0.0.mp4\"));"
   ],
   "metadata": {
    "collapsed": false,
    "ExecuteTime": {
     "end_time": "2023-08-15T01:23:31.773269092Z",
     "start_time": "2023-08-15T01:23:24.296957976Z"
    }
   }
  },
  {
   "cell_type": "code",
   "execution_count": 20,
   "outputs": [
    {
     "name": "stderr",
     "output_type": "stream",
     "text": [
      "writing video:   0%|          | 0/4991 [00:00<?, ?it/s]ffmpeg version 4.4.2-0ubuntu0.22.04.1 Copyright (c) 2000-2021 the FFmpeg developers\n",
      "  built with gcc 11 (Ubuntu 11.2.0-19ubuntu1)\n",
      "  configuration: --prefix=/usr --extra-version=0ubuntu0.22.04.1 --toolchain=hardened --libdir=/usr/lib/x86_64-linux-gnu --incdir=/usr/include/x86_64-linux-gnu --arch=amd64 --enable-gpl --disable-stripping --enable-gnutls --enable-ladspa --enable-libaom --enable-libass --enable-libbluray --enable-libbs2b --enable-libcaca --enable-libcdio --enable-libcodec2 --enable-libdav1d --enable-libflite --enable-libfontconfig --enable-libfreetype --enable-libfribidi --enable-libgme --enable-libgsm --enable-libjack --enable-libmp3lame --enable-libmysofa --enable-libopenjpeg --enable-libopenmpt --enable-libopus --enable-libpulse --enable-librabbitmq --enable-librubberband --enable-libshine --enable-libsnappy --enable-libsoxr --enable-libspeex --enable-libsrt --enable-libssh --enable-libtheora --enable-libtwolame --enable-libvidstab --enable-libvorbis --enable-libvpx --enable-libwebp --enable-libx265 --enable-libxml2 --enable-libxvid --enable-libzimg --enable-libzmq --enable-libzvbi --enable-lv2 --enable-omx --enable-openal --enable-opencl --enable-opengl --enable-sdl2 --enable-pocketsphinx --enable-librsvg --enable-libmfx --enable-libdc1394 --enable-libdrm --enable-libiec61883 --enable-chromaprint --enable-frei0r --enable-libx264 --enable-shared\n",
      "  libavutil      56. 70.100 / 56. 70.100\n",
      "  libavcodec     58.134.100 / 58.134.100\n",
      "  libavformat    58. 76.100 / 58. 76.100\n",
      "  libavdevice    58. 13.100 / 58. 13.100\n",
      "  libavfilter     7.110.100 /  7.110.100\n",
      "  libswscale      5.  9.100 /  5.  9.100\n",
      "  libswresample   3.  9.100 /  3.  9.100\n",
      "  libpostproc    55.  9.100 / 55.  9.100\n",
      "Input #0, rawvideo, from 'pipe:':\n",
      "  Duration: N/A, start: 0.000000, bitrate: 345600 kb/s\n",
      "  Stream #0:0: Video: rawvideo (Y800 / 0x30303859), gray, 240x180, 345600 kb/s, 1k tbr, 1k tbn, 1k tbc\n",
      "Stream mapping:\n",
      "  Stream #0:0 -> #0:0 (rawvideo (native) -> h264 (libx264))\n",
      "[libx264 @ 0x55f1bfd02c00] using cpu capabilities: MMX2 SSE2Fast SSSE3 SSE4.2 AVX FMA3 BMI2 AVX2\n",
      "[libx264 @ 0x55f1bfd02c00] profile High, level 3.2, 4:0:0, 8-bit\n",
      "[libx264 @ 0x55f1bfd02c00] 264 - core 163 r3060 5db6aa6 - H.264/MPEG-4 AVC codec - Copyleft 2003-2021 - http://www.videolan.org/x264.html - options: cabac=1 ref=3 deblock=1:0:0 analyse=0x3:0x113 me=hex subme=7 psy=1 psy_rd=1.00:0.00 mixed_ref=1 me_range=16 chroma_me=0 trellis=1 8x8dct=1 cqm=0 deadzone=21,11 fast_pskip=1 chroma_qp_offset=-2 threads=6 lookahead_threads=1 sliced_threads=0 nr=0 decimate=1 interlaced=0 bluray_compat=0 constrained_intra=0 bframes=3 b_pyramid=2 b_adapt=1 b_bias=0 direct=1 weightb=1 open_gop=0 weightp=2 keyint=250 keyint_min=25 scenecut=40 intra_refresh=0 rc_lookahead=40 rc=crf mbtree=1 crf=23.0 qcomp=0.60 qpmin=0 qpmax=69 qpstep=4 ip_ratio=1.40 aq=1:1.00\n",
      "Output #0, mp4, to '/home/aryalohia/PycharmProjects/Pseudo-Object-Motion-Sensitivity-in-Python-V1/models/0.0.mp4':\n",
      "  Metadata:\n",
      "    encoder         : Lavf58.76.100\n",
      "  Stream #0:0: Video: h264 (avc1 / 0x31637661), gray(progressive), 240x180, q=2-31, 1k fps, 16k tbn\n",
      "    Metadata:\n",
      "      encoder         : Lavc58.134.100 libx264\n",
      "    Side data:\n",
      "      cpb: bitrate max/min/avg: 0/0/0 buffer size: 0 vbv_delay: N/A\n",
      "writing video:  33%|███▎      | 1653/4991 [00:00<00:00, 9279.60it/s]/A speed=N/A    "
     ]
    },
    {
     "name": "stdout",
     "output_type": "stream",
     "text": [
      "/usr/bin/ffmpeg -y -r 1000 -f rawvideo -pix_fmt gray -s 240x180 -i - -vcodec libx264 -r 1000 /home/aryalohia/PycharmProjects/Pseudo-Object-Motion-Sensitivity-in-Python-V1/models/0.0.mp4\n"
     ]
    },
    {
     "name": "stderr",
     "output_type": "stream",
     "text": [
      "writing video: 100%|██████████| 4991/4991 [00:00<00:00, 11261.44it/s]\n",
      "frame= 4991 fps=0.0 q=-1.0 Lsize=     134kB time=00:00:04.98 bitrate= 219.6kbits/s speed=13.6x    \n",
      "video:74kB audio:0kB subtitle:0kB other streams:0kB global headers:0kB muxing overhead: 79.553947%\n",
      "[libx264 @ 0x55f1bfd02c00] frame I:20    Avg QP:11.15  size:    52\n",
      "[libx264 @ 0x55f1bfd02c00] frame P:1257  Avg QP:14.07  size:    20\n",
      "[libx264 @ 0x55f1bfd02c00] frame B:3714  Avg QP:17.67  size:    13\n",
      "[libx264 @ 0x55f1bfd02c00] consecutive B-frames:  0.8%  0.0%  0.0% 99.2%\n",
      "[libx264 @ 0x55f1bfd02c00] mb I  I16..4: 100.0%  0.0%  0.0%\n",
      "[libx264 @ 0x55f1bfd02c00] mb P  I16..4:  0.0%  0.0%  0.0%  P16..4:  0.0%  0.0%  0.0%  0.0%  0.0%    skip:100.0%\n",
      "[libx264 @ 0x55f1bfd02c00] mb B  I16..4:  0.0%  0.0%  0.0%  B16..8:  0.0%  0.0%  0.0%  direct: 0.0%  skip:100.0%\n",
      "[libx264 @ 0x55f1bfd02c00] 8x8 transform intra:0.0%\n",
      "[libx264 @ 0x55f1bfd02c00] coded y intra: 0.0% inter: 0.0%\n",
      "[libx264 @ 0x55f1bfd02c00] i16 v,h,dc,p: 92%  0%  8%  0%\n",
      "[libx264 @ 0x55f1bfd02c00] i8c dc,h,v,p: 100%  0%  0%  0%\n",
      "[libx264 @ 0x55f1bfd02c00] Weighted P-Frames: Y:0.0%\n",
      "[libx264 @ 0x55f1bfd02c00] kb/s:121.15\n"
     ]
    }
   ],
   "source": [
    "import skvideo.io\n",
    "from tqdm import tqdm\n",
    "writer = skvideo.io.FFmpegWriter(os.path.join(model_dir, \"0.0.mp4\"), inputdict={\"-r\": str(1000)},\n",
    "                                  outputdict={'-vcodec': 'libx264', '-r': str(1000)},\n",
    "                                  verbosity=1)\n",
    "\n",
    "for i in tqdm(range(first_forward.shape[0]), desc=\"writing video\"):\n",
    "    writer.writeFrame(first_forward[i].view(180, 240).detach().cpu().numpy() * 255)\n",
    "\n",
    "# Release capture and destroy windows\n",
    "writer.close()"
   ],
   "metadata": {
    "collapsed": false,
    "ExecuteTime": {
     "end_time": "2023-07-28T20:41:49.393948892Z",
     "start_time": "2023-07-28T20:41:48.931490417Z"
    }
   }
  },
  {
   "cell_type": "code",
   "execution_count": 11,
   "outputs": [
    {
     "name": "stdout",
     "output_type": "stream",
     "text": [
      "torch.Size([2, 180, 240])\n",
      "torch.Size([4, 90, 120])\n",
      "torch.Size([1, 43200])\n",
      "torch.Size([1, 2, 180, 240])\n",
      "torch.Size([1, 4, 90, 120])\n",
      "torch.Size([1, 43200])\n",
      "==========================================================================================\n",
      "Layer (type:depth-idx)                   Output Shape              Param #\n",
      "==========================================================================================\n",
      "├─Conv2d: 1-1                            [1, 4, 180, 240]          204\n",
      "├─Leaky: 1-2                             [1, 4, 90, 120]           --\n",
      "├─Linear: 1-3                            [1, 43200]                1,866,283,200\n",
      "├─Leaky: 1-4                             [1, 43200]                --\n",
      "==========================================================================================\n",
      "Total params: 1,866,283,404\n",
      "Trainable params: 1,866,283,404\n",
      "Non-trainable params: 0\n",
      "Total mult-adds (G): 1.87\n",
      "==========================================================================================\n",
      "Input size (MB): 0.33\n",
      "Forward/backward pass size (MB): 1.65\n",
      "Params size (MB): 7119.31\n",
      "Estimated Total Size (MB): 7121.28\n",
      "==========================================================================================\n"
     ]
    }
   ],
   "source": [
    "%reload_ext autoreload\n",
    "%autoreload 2\n",
    "from oms_v3_network import OMSv3Network\n",
    "import torch\n",
    "net = OMSv3Network(beta=.9)\n",
    "from torchsummary import summary\n",
    "net.eval()\n",
    "net(torch.rand((2, 180, 240)))\n",
    "summary(net, (1, 2, 180, 240), batch_dim=None);"
   ],
   "metadata": {
    "collapsed": false,
    "ExecuteTime": {
     "end_time": "2023-07-28T16:33:01.172737412Z",
     "start_time": "2023-07-28T16:32:52.667717349Z"
    }
   }
  },
  {
   "cell_type": "code",
   "execution_count": 29,
   "outputs": [],
   "source": [
    "out_format = (first_forward.reshape(4991, 2, 180, 240).detach().cpu().numpy() * 255).astype(np.uint8)"
   ],
   "metadata": {
    "collapsed": false,
    "ExecuteTime": {
     "end_time": "2023-07-28T02:54:42.839045492Z",
     "start_time": "2023-07-28T02:54:42.079875054Z"
    }
   }
  },
  {
   "cell_type": "code",
   "execution_count": 25,
   "outputs": [
    {
     "data": {
      "text/plain": "(4990, 180, 240)"
     },
     "execution_count": 25,
     "metadata": {},
     "output_type": "execute_result"
    }
   ],
   "source": [
    "out_format = train_dataset[4][1][np.newaxis, ...]\n",
    "out_format = out_format[0]\n",
    "final = out_format[:, 0] + out_format[:, 1]\n",
    "final.shape"
   ],
   "metadata": {
    "collapsed": false,
    "ExecuteTime": {
     "end_time": "2023-07-28T03:39:16.320577552Z",
     "start_time": "2023-07-28T03:39:16.247579518Z"
    }
   }
  },
  {
   "cell_type": "code",
   "execution_count": 26,
   "outputs": [],
   "source": [
    "final = ( final / final.max() ) * 255"
   ],
   "metadata": {
    "collapsed": false,
    "ExecuteTime": {
     "end_time": "2023-07-28T03:39:34.414419938Z",
     "start_time": "2023-07-28T03:39:34.086082300Z"
    }
   }
  }
 ],
 "metadata": {
  "kernelspec": {
   "display_name": "Python 3",
   "language": "python",
   "name": "python3"
  },
  "language_info": {
   "codemirror_mode": {
    "name": "ipython",
    "version": 2
   },
   "file_extension": ".py",
   "mimetype": "text/x-python",
   "name": "python",
   "nbconvert_exporter": "python",
   "pygments_lexer": "ipython2",
   "version": "2.7.6"
  }
 },
 "nbformat": 4,
 "nbformat_minor": 0
}
