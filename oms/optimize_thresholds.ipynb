{
 "cells": [
  {
   "cell_type": "code",
   "execution_count": 9,
   "id": "initial_id",
   "metadata": {
    "collapsed": true,
    "ExecuteTime": {
     "end_time": "2023-09-14T01:13:36.535230609Z",
     "start_time": "2023-09-14T01:13:36.488388828Z"
    }
   },
   "outputs": [],
   "source": [
    "import torch.utils.data\n",
    "import torchvision\n",
    "from torch.utils.data import DataLoader\n",
    "import numpy as np\n",
    "import os\n",
    "import shutil\n",
    "from datetime import datetime as dt\n",
    "from skimage.metrics import structural_similarity as SSIM\n",
    "\n",
    "from version_2.bin.oms_fixed_kernels.oms import oms\n",
    "from version_2.experiments.experiment_1_vsim.filter_construction import *\n",
    "from version_2.bin.activation_functions.activation_functions import *\n",
    "from version_2.metrics.spike_rate import spike_rate_metric\n",
    "from version_2.metrics.phash import phash_comp\n",
    "\n",
    "from evimo_dataset import EVIMODataset\n",
    "\n",
    "\n",
    "ROOT_DIR = \"/home/aryalohia/PycharmProjects/iris/version_2\"\n",
    "data_dir = \"/home/aryalohia/PycharmProjects/iris/version_2/train/box2/npz\"\n",
    "params_dir = os.path.join(\"/home/aryalohia/PycharmProjects/iris/version_2/experiments/experiment_3_vsim/data_1\")\n",
    "save_dir = os.path.join(os.getcwd(), 'results/')"
   ]
  },
  {
   "cell_type": "code",
   "execution_count": 10,
   "outputs": [],
   "source": [
    "# Constant Params\n",
    "\n",
    "\n",
    "width = 346\n",
    "height = 260\n",
    "fps = 40\n",
    "\n",
    "center_kernel_radius = 2\n",
    "surround_kernel_radius = 4\n",
    "\n",
    "# BO Params\n",
    "oms_threshold = .9\n",
    "\n",
    "kernels = {\n",
    "    # \"circle_1_.5\": (construct_circ_filter, hardware_activation_function, 1, .75),\n",
    "    \"hardware\": (gaussian_filter, hardware_activation_function, 2 * surround_kernel_radius, 1),\n",
    "    # \"neuroscience\": (gaussian_filter, neuro_activation_function, 1, .75),\n",
    "}\n"
   ],
   "metadata": {
    "collapsed": false,
    "ExecuteTime": {
     "end_time": "2023-09-14T01:13:38.290871977Z",
     "start_time": "2023-09-14T01:13:38.287301293Z"
    }
   },
   "id": "5e374e1a45600b3f"
  },
  {
   "cell_type": "code",
   "execution_count": 11,
   "outputs": [],
   "source": [
    "x = np.linspace(.3, 4, 30)\n"
   ],
   "metadata": {
    "collapsed": false,
    "ExecuteTime": {
     "end_time": "2023-09-14T01:13:38.582543917Z",
     "start_time": "2023-09-14T01:13:38.578634080Z"
    }
   },
   "id": "26af70d8f535599c"
  },
  {
   "cell_type": "code",
   "execution_count": 13,
   "outputs": [
    {
     "name": "stdout",
     "output_type": "stream",
     "text": [
      "converted `data_dir` to relative path: train/box2/npz\n",
      "Loading EVIMO dataset from .npz files, or from .npy files if already converted\n",
      "/home/aryalohia/PycharmProjects/iris/version_2/experiments/experiment_3_vsim\n",
      "Already converted all files to .npy\n"
     ]
    }
   ],
   "source": [
    "# Data\n",
    "\n",
    "dataset = EVIMODataset(\n",
    "    data_dir=data_dir\n",
    ")\n",
    "\n",
    "loader = DataLoader(dataset)"
   ],
   "metadata": {
    "collapsed": false,
    "ExecuteTime": {
     "end_time": "2023-09-14T01:13:43.156055594Z",
     "start_time": "2023-09-14T01:13:43.144228442Z"
    }
   },
   "id": "6c1769b1f6b38597"
  },
  {
   "cell_type": "code",
   "execution_count": 14,
   "outputs": [],
   "source": [
    "results: list[str] = [f\"Experiment 1: \\n\", f\"Results from {str(dt.now().ctime())} \\n\", \"Parameters: \\n\",\n",
    "                      f\"\\t width: {width} \\n\", f\"\\t height: {height} \\n\", f\"\\t fps: {fps} \\n\",\n",
    "                      f\"\\t center_kernel_radius: {center_kernel_radius} \\n\",\n",
    "                      f\"\\t surround_kernel_radius: {surround_kernel_radius} \\n\",\n",
    "                      f\"\\t oms_threshold: {oms_threshold} \\n\", f\"\\t oms_contrast_ratio: {oms_threshold} \\n\"]"
   ],
   "metadata": {
    "collapsed": false,
    "ExecuteTime": {
     "end_time": "2023-09-14T01:13:44.256117927Z",
     "start_time": "2023-09-14T01:13:44.250525101Z"
    }
   },
   "id": "5e0871d261b0996e"
  },
  {
   "cell_type": "code",
   "execution_count": 21,
   "outputs": [
    {
     "name": "stdout",
     "output_type": "stream",
     "text": [
      "circle_1_.5\n",
      "construct_circ_filter \n",
      "\n",
      "oms_threshold: 0.01\n",
      "torch.Size([1, 2666, 1, 260, 346]) torch.Size([1, 2666, 1, 260, 346]) ('seq_00_frames',)\n"
     ]
    },
    {
     "name": "stderr",
     "output_type": "stream",
     "text": [
      "Computing OMS frames: 100%|██████████| 580/580 [00:00<00:00, 881.56it/s]\n"
     ]
    },
    {
     "name": "stdout",
     "output_type": "stream",
     "text": [
      "circle_1_.5\n",
      "construct_circ_filter \n",
      "\n",
      "oms_threshold: 0.0776271186440678\n",
      "torch.Size([1, 2666, 1, 260, 346]) torch.Size([1, 2666, 1, 260, 346]) ('seq_00_frames',)\n"
     ]
    },
    {
     "name": "stderr",
     "output_type": "stream",
     "text": [
      "Computing OMS frames: 100%|██████████| 580/580 [00:00<00:00, 746.14it/s]\n"
     ]
    },
    {
     "name": "stdout",
     "output_type": "stream",
     "text": [
      "circle_1_.5\n",
      "construct_circ_filter \n",
      "\n",
      "oms_threshold: 0.1452542372881356\n",
      "torch.Size([1, 2666, 1, 260, 346]) torch.Size([1, 2666, 1, 260, 346]) ('seq_00_frames',)\n"
     ]
    },
    {
     "name": "stderr",
     "output_type": "stream",
     "text": [
      "Computing OMS frames: 100%|██████████| 580/580 [00:00<00:00, 915.11it/s]\n"
     ]
    },
    {
     "name": "stdout",
     "output_type": "stream",
     "text": [
      "circle_1_.5\n",
      "construct_circ_filter \n",
      "\n",
      "oms_threshold: 0.21288135593220342\n",
      "torch.Size([1, 2666, 1, 260, 346]) torch.Size([1, 2666, 1, 260, 346]) ('seq_00_frames',)\n"
     ]
    },
    {
     "name": "stderr",
     "output_type": "stream",
     "text": [
      "Computing OMS frames: 100%|██████████| 580/580 [00:00<00:00, 896.15it/s]\n"
     ]
    },
    {
     "name": "stdout",
     "output_type": "stream",
     "text": [
      "circle_1_.5\n",
      "construct_circ_filter \n",
      "\n",
      "oms_threshold: 0.2805084745762712\n",
      "torch.Size([1, 2666, 1, 260, 346]) torch.Size([1, 2666, 1, 260, 346]) ('seq_00_frames',)\n"
     ]
    },
    {
     "name": "stderr",
     "output_type": "stream",
     "text": [
      "Computing OMS frames: 100%|██████████| 580/580 [00:00<00:00, 922.18it/s]\n"
     ]
    },
    {
     "name": "stdout",
     "output_type": "stream",
     "text": [
      "circle_1_.5\n",
      "construct_circ_filter \n",
      "\n",
      "oms_threshold: 0.348135593220339\n",
      "torch.Size([1, 2666, 1, 260, 346]) torch.Size([1, 2666, 1, 260, 346]) ('seq_00_frames',)\n"
     ]
    },
    {
     "name": "stderr",
     "output_type": "stream",
     "text": [
      "Computing OMS frames: 100%|██████████| 580/580 [00:00<00:00, 863.39it/s]\n"
     ]
    },
    {
     "name": "stdout",
     "output_type": "stream",
     "text": [
      "circle_1_.5\n",
      "construct_circ_filter \n",
      "\n",
      "oms_threshold: 0.41576271186440683\n",
      "torch.Size([1, 2666, 1, 260, 346]) torch.Size([1, 2666, 1, 260, 346]) ('seq_00_frames',)\n"
     ]
    },
    {
     "name": "stderr",
     "output_type": "stream",
     "text": [
      "Computing OMS frames: 100%|██████████| 580/580 [00:00<00:00, 770.00it/s]\n"
     ]
    },
    {
     "name": "stdout",
     "output_type": "stream",
     "text": [
      "circle_1_.5\n",
      "construct_circ_filter \n",
      "\n",
      "oms_threshold: 0.4833898305084746\n",
      "torch.Size([1, 2666, 1, 260, 346]) torch.Size([1, 2666, 1, 260, 346]) ('seq_00_frames',)\n"
     ]
    },
    {
     "name": "stderr",
     "output_type": "stream",
     "text": [
      "Computing OMS frames: 100%|██████████| 580/580 [00:00<00:00, 842.00it/s]\n"
     ]
    },
    {
     "name": "stdout",
     "output_type": "stream",
     "text": [
      "circle_1_.5\n",
      "construct_circ_filter \n",
      "\n",
      "oms_threshold: 0.5510169491525424\n",
      "torch.Size([1, 2666, 1, 260, 346]) torch.Size([1, 2666, 1, 260, 346]) ('seq_00_frames',)\n"
     ]
    },
    {
     "name": "stderr",
     "output_type": "stream",
     "text": [
      "Computing OMS frames: 100%|██████████| 580/580 [00:00<00:00, 880.28it/s]\n"
     ]
    },
    {
     "name": "stdout",
     "output_type": "stream",
     "text": [
      "circle_1_.5\n",
      "construct_circ_filter \n",
      "\n",
      "oms_threshold: 0.6186440677966102\n",
      "torch.Size([1, 2666, 1, 260, 346]) torch.Size([1, 2666, 1, 260, 346]) ('seq_00_frames',)\n"
     ]
    },
    {
     "name": "stderr",
     "output_type": "stream",
     "text": [
      "Computing OMS frames: 100%|██████████| 580/580 [00:00<00:00, 836.99it/s]\n"
     ]
    },
    {
     "name": "stdout",
     "output_type": "stream",
     "text": [
      "circle_1_.5\n",
      "construct_circ_filter \n",
      "\n",
      "oms_threshold: 0.686271186440678\n",
      "torch.Size([1, 2666, 1, 260, 346]) torch.Size([1, 2666, 1, 260, 346]) ('seq_00_frames',)\n"
     ]
    },
    {
     "name": "stderr",
     "output_type": "stream",
     "text": [
      "Computing OMS frames: 100%|██████████| 580/580 [00:00<00:00, 885.71it/s]\n"
     ]
    },
    {
     "name": "stdout",
     "output_type": "stream",
     "text": [
      "circle_1_.5\n",
      "construct_circ_filter \n",
      "\n",
      "oms_threshold: 0.7538983050847458\n",
      "torch.Size([1, 2666, 1, 260, 346]) torch.Size([1, 2666, 1, 260, 346]) ('seq_00_frames',)\n"
     ]
    },
    {
     "name": "stderr",
     "output_type": "stream",
     "text": [
      "Computing OMS frames: 100%|██████████| 580/580 [00:00<00:00, 913.35it/s]\n"
     ]
    },
    {
     "name": "stdout",
     "output_type": "stream",
     "text": [
      "circle_1_.5\n",
      "construct_circ_filter \n",
      "\n",
      "oms_threshold: 0.8215254237288137\n",
      "torch.Size([1, 2666, 1, 260, 346]) torch.Size([1, 2666, 1, 260, 346]) ('seq_00_frames',)\n"
     ]
    },
    {
     "name": "stderr",
     "output_type": "stream",
     "text": [
      "Computing OMS frames: 100%|██████████| 580/580 [00:00<00:00, 883.60it/s]\n"
     ]
    },
    {
     "name": "stdout",
     "output_type": "stream",
     "text": [
      "circle_1_.5\n",
      "construct_circ_filter \n",
      "\n",
      "oms_threshold: 0.8891525423728814\n",
      "torch.Size([1, 2666, 1, 260, 346]) torch.Size([1, 2666, 1, 260, 346]) ('seq_00_frames',)\n"
     ]
    },
    {
     "name": "stderr",
     "output_type": "stream",
     "text": [
      "Computing OMS frames: 100%|██████████| 580/580 [00:00<00:00, 822.36it/s]\n"
     ]
    },
    {
     "name": "stdout",
     "output_type": "stream",
     "text": [
      "circle_1_.5\n",
      "construct_circ_filter \n",
      "\n",
      "oms_threshold: 0.9567796610169492\n",
      "torch.Size([1, 2666, 1, 260, 346]) torch.Size([1, 2666, 1, 260, 346]) ('seq_00_frames',)\n"
     ]
    },
    {
     "name": "stderr",
     "output_type": "stream",
     "text": [
      "Computing OMS frames: 100%|██████████| 580/580 [00:00<00:00, 917.77it/s]\n"
     ]
    },
    {
     "name": "stdout",
     "output_type": "stream",
     "text": [
      "circle_1_.5\n",
      "construct_circ_filter \n",
      "\n",
      "oms_threshold: 1.024406779661017\n",
      "torch.Size([1, 2666, 1, 260, 346]) torch.Size([1, 2666, 1, 260, 346]) ('seq_00_frames',)\n"
     ]
    },
    {
     "name": "stderr",
     "output_type": "stream",
     "text": [
      "Computing OMS frames: 100%|██████████| 580/580 [00:00<00:00, 824.84it/s]\n"
     ]
    },
    {
     "name": "stdout",
     "output_type": "stream",
     "text": [
      "circle_1_.5\n",
      "construct_circ_filter \n",
      "\n",
      "oms_threshold: 1.0920338983050848\n",
      "torch.Size([1, 2666, 1, 260, 346]) torch.Size([1, 2666, 1, 260, 346]) ('seq_00_frames',)\n"
     ]
    },
    {
     "name": "stderr",
     "output_type": "stream",
     "text": [
      "Computing OMS frames: 100%|██████████| 580/580 [00:00<00:00, 875.67it/s]\n"
     ]
    },
    {
     "name": "stdout",
     "output_type": "stream",
     "text": [
      "circle_1_.5\n",
      "construct_circ_filter \n",
      "\n",
      "oms_threshold: 1.1596610169491526\n",
      "torch.Size([1, 2666, 1, 260, 346]) torch.Size([1, 2666, 1, 260, 346]) ('seq_00_frames',)\n"
     ]
    },
    {
     "name": "stderr",
     "output_type": "stream",
     "text": [
      "Computing OMS frames: 100%|██████████| 580/580 [00:00<00:00, 932.69it/s]\n"
     ]
    },
    {
     "name": "stdout",
     "output_type": "stream",
     "text": [
      "circle_1_.5\n",
      "construct_circ_filter \n",
      "\n",
      "oms_threshold: 1.2272881355932204\n",
      "torch.Size([1, 2666, 1, 260, 346]) torch.Size([1, 2666, 1, 260, 346]) ('seq_00_frames',)\n"
     ]
    },
    {
     "name": "stderr",
     "output_type": "stream",
     "text": [
      "Computing OMS frames: 100%|██████████| 580/580 [00:00<00:00, 880.09it/s]\n"
     ]
    },
    {
     "name": "stdout",
     "output_type": "stream",
     "text": [
      "circle_1_.5\n",
      "construct_circ_filter \n",
      "\n",
      "oms_threshold: 1.2949152542372881\n",
      "torch.Size([1, 2666, 1, 260, 346]) torch.Size([1, 2666, 1, 260, 346]) ('seq_00_frames',)\n"
     ]
    },
    {
     "name": "stderr",
     "output_type": "stream",
     "text": [
      "Computing OMS frames: 100%|██████████| 580/580 [00:00<00:00, 841.21it/s]\n"
     ]
    },
    {
     "name": "stdout",
     "output_type": "stream",
     "text": [
      "circle_1_.5\n",
      "construct_circ_filter \n",
      "\n",
      "oms_threshold: 1.362542372881356\n",
      "torch.Size([1, 2666, 1, 260, 346]) torch.Size([1, 2666, 1, 260, 346]) ('seq_00_frames',)\n"
     ]
    },
    {
     "name": "stderr",
     "output_type": "stream",
     "text": [
      "Computing OMS frames: 100%|██████████| 580/580 [00:00<00:00, 886.74it/s]\n"
     ]
    },
    {
     "name": "stdout",
     "output_type": "stream",
     "text": [
      "circle_1_.5\n",
      "construct_circ_filter \n",
      "\n",
      "oms_threshold: 1.4301694915254237\n",
      "torch.Size([1, 2666, 1, 260, 346]) torch.Size([1, 2666, 1, 260, 346]) ('seq_00_frames',)\n"
     ]
    },
    {
     "name": "stderr",
     "output_type": "stream",
     "text": [
      "Computing OMS frames: 100%|██████████| 580/580 [00:00<00:00, 868.18it/s]\n"
     ]
    },
    {
     "name": "stdout",
     "output_type": "stream",
     "text": [
      "circle_1_.5\n",
      "construct_circ_filter \n",
      "\n",
      "oms_threshold: 1.4977966101694915\n",
      "torch.Size([1, 2666, 1, 260, 346]) torch.Size([1, 2666, 1, 260, 346]) ('seq_00_frames',)\n"
     ]
    },
    {
     "name": "stderr",
     "output_type": "stream",
     "text": [
      "Computing OMS frames: 100%|██████████| 580/580 [00:00<00:00, 898.88it/s]\n"
     ]
    },
    {
     "name": "stdout",
     "output_type": "stream",
     "text": [
      "circle_1_.5\n",
      "construct_circ_filter \n",
      "\n",
      "oms_threshold: 1.5654237288135593\n",
      "torch.Size([1, 2666, 1, 260, 346]) torch.Size([1, 2666, 1, 260, 346]) ('seq_00_frames',)\n"
     ]
    },
    {
     "name": "stderr",
     "output_type": "stream",
     "text": [
      "Computing OMS frames: 100%|██████████| 580/580 [00:00<00:00, 874.35it/s]\n"
     ]
    },
    {
     "name": "stdout",
     "output_type": "stream",
     "text": [
      "circle_1_.5\n",
      "construct_circ_filter \n",
      "\n",
      "oms_threshold: 1.6330508474576273\n",
      "torch.Size([1, 2666, 1, 260, 346]) torch.Size([1, 2666, 1, 260, 346]) ('seq_00_frames',)\n"
     ]
    },
    {
     "name": "stderr",
     "output_type": "stream",
     "text": [
      "Computing OMS frames: 100%|██████████| 580/580 [00:00<00:00, 930.71it/s]\n"
     ]
    },
    {
     "name": "stdout",
     "output_type": "stream",
     "text": [
      "circle_1_.5\n",
      "construct_circ_filter \n",
      "\n",
      "oms_threshold: 1.700677966101695\n",
      "torch.Size([1, 2666, 1, 260, 346]) torch.Size([1, 2666, 1, 260, 346]) ('seq_00_frames',)\n"
     ]
    },
    {
     "name": "stderr",
     "output_type": "stream",
     "text": [
      "Computing OMS frames: 100%|██████████| 580/580 [00:00<00:00, 853.73it/s]\n"
     ]
    },
    {
     "name": "stdout",
     "output_type": "stream",
     "text": [
      "circle_1_.5\n",
      "construct_circ_filter \n",
      "\n",
      "oms_threshold: 1.7683050847457629\n",
      "torch.Size([1, 2666, 1, 260, 346]) torch.Size([1, 2666, 1, 260, 346]) ('seq_00_frames',)\n"
     ]
    },
    {
     "name": "stderr",
     "output_type": "stream",
     "text": [
      "Computing OMS frames: 100%|██████████| 580/580 [00:00<00:00, 901.13it/s]\n"
     ]
    },
    {
     "name": "stdout",
     "output_type": "stream",
     "text": [
      "circle_1_.5\n",
      "construct_circ_filter \n",
      "\n",
      "oms_threshold: 1.8359322033898307\n",
      "torch.Size([1, 2666, 1, 260, 346]) torch.Size([1, 2666, 1, 260, 346]) ('seq_00_frames',)\n"
     ]
    },
    {
     "name": "stderr",
     "output_type": "stream",
     "text": [
      "Computing OMS frames: 100%|██████████| 580/580 [00:00<00:00, 905.06it/s]\n"
     ]
    },
    {
     "name": "stdout",
     "output_type": "stream",
     "text": [
      "circle_1_.5\n",
      "construct_circ_filter \n",
      "\n",
      "oms_threshold: 1.9035593220338984\n",
      "torch.Size([1, 2666, 1, 260, 346]) torch.Size([1, 2666, 1, 260, 346]) ('seq_00_frames',)\n"
     ]
    },
    {
     "name": "stderr",
     "output_type": "stream",
     "text": [
      "Computing OMS frames: 100%|██████████| 580/580 [00:00<00:00, 902.31it/s]\n"
     ]
    },
    {
     "name": "stdout",
     "output_type": "stream",
     "text": [
      "circle_1_.5\n",
      "construct_circ_filter \n",
      "\n",
      "oms_threshold: 1.9711864406779662\n",
      "torch.Size([1, 2666, 1, 260, 346]) torch.Size([1, 2666, 1, 260, 346]) ('seq_00_frames',)\n"
     ]
    },
    {
     "name": "stderr",
     "output_type": "stream",
     "text": [
      "Computing OMS frames: 100%|██████████| 580/580 [00:00<00:00, 818.08it/s]\n"
     ]
    },
    {
     "name": "stdout",
     "output_type": "stream",
     "text": [
      "circle_1_.5\n",
      "construct_circ_filter \n",
      "\n",
      "oms_threshold: 2.038813559322034\n",
      "torch.Size([1, 2666, 1, 260, 346]) torch.Size([1, 2666, 1, 260, 346]) ('seq_00_frames',)\n"
     ]
    },
    {
     "name": "stderr",
     "output_type": "stream",
     "text": [
      "Computing OMS frames: 100%|██████████| 580/580 [00:00<00:00, 832.27it/s]\n"
     ]
    },
    {
     "name": "stdout",
     "output_type": "stream",
     "text": [
      "circle_1_.5\n",
      "construct_circ_filter \n",
      "\n",
      "oms_threshold: 2.1064406779661016\n",
      "torch.Size([1, 2666, 1, 260, 346]) torch.Size([1, 2666, 1, 260, 346]) ('seq_00_frames',)\n"
     ]
    },
    {
     "name": "stderr",
     "output_type": "stream",
     "text": [
      "Computing OMS frames: 100%|██████████| 580/580 [00:00<00:00, 840.71it/s]\n"
     ]
    },
    {
     "name": "stdout",
     "output_type": "stream",
     "text": [
      "circle_1_.5\n",
      "construct_circ_filter \n",
      "\n",
      "oms_threshold: 2.1740677966101694\n",
      "torch.Size([1, 2666, 1, 260, 346]) torch.Size([1, 2666, 1, 260, 346]) ('seq_00_frames',)\n"
     ]
    },
    {
     "name": "stderr",
     "output_type": "stream",
     "text": [
      "Computing OMS frames: 100%|██████████| 580/580 [00:00<00:00, 867.79it/s]\n"
     ]
    },
    {
     "name": "stdout",
     "output_type": "stream",
     "text": [
      "circle_1_.5\n",
      "construct_circ_filter \n",
      "\n",
      "oms_threshold: 2.241694915254237\n",
      "torch.Size([1, 2666, 1, 260, 346]) torch.Size([1, 2666, 1, 260, 346]) ('seq_00_frames',)\n"
     ]
    },
    {
     "name": "stderr",
     "output_type": "stream",
     "text": [
      "Computing OMS frames: 100%|██████████| 580/580 [00:00<00:00, 848.21it/s]\n"
     ]
    },
    {
     "name": "stdout",
     "output_type": "stream",
     "text": [
      "circle_1_.5\n",
      "construct_circ_filter \n",
      "\n",
      "oms_threshold: 2.309322033898305\n",
      "torch.Size([1, 2666, 1, 260, 346]) torch.Size([1, 2666, 1, 260, 346]) ('seq_00_frames',)\n"
     ]
    },
    {
     "name": "stderr",
     "output_type": "stream",
     "text": [
      "Computing OMS frames: 100%|██████████| 580/580 [00:00<00:00, 837.72it/s]\n"
     ]
    },
    {
     "name": "stdout",
     "output_type": "stream",
     "text": [
      "circle_1_.5\n",
      "construct_circ_filter \n",
      "\n",
      "oms_threshold: 2.3769491525423727\n",
      "torch.Size([1, 2666, 1, 260, 346]) torch.Size([1, 2666, 1, 260, 346]) ('seq_00_frames',)\n"
     ]
    },
    {
     "name": "stderr",
     "output_type": "stream",
     "text": [
      "Computing OMS frames: 100%|██████████| 580/580 [00:00<00:00, 814.69it/s]\n"
     ]
    },
    {
     "name": "stdout",
     "output_type": "stream",
     "text": [
      "circle_1_.5\n",
      "construct_circ_filter \n",
      "\n",
      "oms_threshold: 2.4445762711864405\n",
      "torch.Size([1, 2666, 1, 260, 346]) torch.Size([1, 2666, 1, 260, 346]) ('seq_00_frames',)\n"
     ]
    },
    {
     "name": "stderr",
     "output_type": "stream",
     "text": [
      "Computing OMS frames: 100%|██████████| 580/580 [00:00<00:00, 826.21it/s]\n"
     ]
    },
    {
     "name": "stdout",
     "output_type": "stream",
     "text": [
      "circle_1_.5\n",
      "construct_circ_filter \n",
      "\n",
      "oms_threshold: 2.5122033898305083\n",
      "torch.Size([1, 2666, 1, 260, 346]) torch.Size([1, 2666, 1, 260, 346]) ('seq_00_frames',)\n"
     ]
    },
    {
     "name": "stderr",
     "output_type": "stream",
     "text": [
      "Computing OMS frames: 100%|██████████| 580/580 [00:00<00:00, 815.70it/s]\n"
     ]
    },
    {
     "name": "stdout",
     "output_type": "stream",
     "text": [
      "circle_1_.5\n",
      "construct_circ_filter \n",
      "\n",
      "oms_threshold: 2.579830508474576\n",
      "torch.Size([1, 2666, 1, 260, 346]) torch.Size([1, 2666, 1, 260, 346]) ('seq_00_frames',)\n"
     ]
    },
    {
     "name": "stderr",
     "output_type": "stream",
     "text": [
      "Computing OMS frames: 100%|██████████| 580/580 [00:00<00:00, 783.83it/s]\n"
     ]
    },
    {
     "name": "stdout",
     "output_type": "stream",
     "text": [
      "circle_1_.5\n",
      "construct_circ_filter \n",
      "\n",
      "oms_threshold: 2.647457627118644\n",
      "torch.Size([1, 2666, 1, 260, 346]) torch.Size([1, 2666, 1, 260, 346]) ('seq_00_frames',)\n"
     ]
    },
    {
     "name": "stderr",
     "output_type": "stream",
     "text": [
      "Computing OMS frames: 100%|██████████| 580/580 [00:00<00:00, 684.13it/s]\n"
     ]
    },
    {
     "name": "stdout",
     "output_type": "stream",
     "text": [
      "circle_1_.5\n",
      "construct_circ_filter \n",
      "\n",
      "oms_threshold: 2.7150847457627116\n",
      "torch.Size([1, 2666, 1, 260, 346]) torch.Size([1, 2666, 1, 260, 346]) ('seq_00_frames',)\n"
     ]
    },
    {
     "name": "stderr",
     "output_type": "stream",
     "text": [
      "Computing OMS frames: 100%|██████████| 580/580 [00:00<00:00, 799.13it/s]\n"
     ]
    },
    {
     "name": "stdout",
     "output_type": "stream",
     "text": [
      "circle_1_.5\n",
      "construct_circ_filter \n",
      "\n",
      "oms_threshold: 2.7827118644067794\n",
      "torch.Size([1, 2666, 1, 260, 346]) torch.Size([1, 2666, 1, 260, 346]) ('seq_00_frames',)\n"
     ]
    },
    {
     "name": "stderr",
     "output_type": "stream",
     "text": [
      "Computing OMS frames: 100%|██████████| 580/580 [00:00<00:00, 796.97it/s]\n"
     ]
    },
    {
     "name": "stdout",
     "output_type": "stream",
     "text": [
      "circle_1_.5\n",
      "construct_circ_filter \n",
      "\n",
      "oms_threshold: 2.850338983050847\n",
      "torch.Size([1, 2666, 1, 260, 346]) torch.Size([1, 2666, 1, 260, 346]) ('seq_00_frames',)\n"
     ]
    },
    {
     "name": "stderr",
     "output_type": "stream",
     "text": [
      "Computing OMS frames: 100%|██████████| 580/580 [00:00<00:00, 679.88it/s]\n"
     ]
    },
    {
     "name": "stdout",
     "output_type": "stream",
     "text": [
      "circle_1_.5\n",
      "construct_circ_filter \n",
      "\n",
      "oms_threshold: 2.917966101694915\n",
      "torch.Size([1, 2666, 1, 260, 346]) torch.Size([1, 2666, 1, 260, 346]) ('seq_00_frames',)\n"
     ]
    },
    {
     "name": "stderr",
     "output_type": "stream",
     "text": [
      "Computing OMS frames: 100%|██████████| 580/580 [00:00<00:00, 756.95it/s]\n"
     ]
    },
    {
     "name": "stdout",
     "output_type": "stream",
     "text": [
      "circle_1_.5\n",
      "construct_circ_filter \n",
      "\n",
      "oms_threshold: 2.985593220338983\n",
      "torch.Size([1, 2666, 1, 260, 346]) torch.Size([1, 2666, 1, 260, 346]) ('seq_00_frames',)\n"
     ]
    },
    {
     "name": "stderr",
     "output_type": "stream",
     "text": [
      "Computing OMS frames: 100%|██████████| 580/580 [00:00<00:00, 780.78it/s]\n"
     ]
    },
    {
     "name": "stdout",
     "output_type": "stream",
     "text": [
      "circle_1_.5\n",
      "construct_circ_filter \n",
      "\n",
      "oms_threshold: 3.0532203389830506\n",
      "torch.Size([1, 2666, 1, 260, 346]) torch.Size([1, 2666, 1, 260, 346]) ('seq_00_frames',)\n"
     ]
    },
    {
     "name": "stderr",
     "output_type": "stream",
     "text": [
      "Computing OMS frames: 100%|██████████| 580/580 [00:00<00:00, 759.02it/s]\n"
     ]
    },
    {
     "name": "stdout",
     "output_type": "stream",
     "text": [
      "circle_1_.5\n",
      "construct_circ_filter \n",
      "\n",
      "oms_threshold: 3.1208474576271183\n",
      "torch.Size([1, 2666, 1, 260, 346]) torch.Size([1, 2666, 1, 260, 346]) ('seq_00_frames',)\n"
     ]
    },
    {
     "name": "stderr",
     "output_type": "stream",
     "text": [
      "Computing OMS frames: 100%|██████████| 580/580 [00:00<00:00, 750.30it/s]\n"
     ]
    },
    {
     "name": "stdout",
     "output_type": "stream",
     "text": [
      "circle_1_.5\n",
      "construct_circ_filter \n",
      "\n",
      "oms_threshold: 3.188474576271186\n",
      "torch.Size([1, 2666, 1, 260, 346]) torch.Size([1, 2666, 1, 260, 346]) ('seq_00_frames',)\n"
     ]
    },
    {
     "name": "stderr",
     "output_type": "stream",
     "text": [
      "Computing OMS frames: 100%|██████████| 580/580 [00:00<00:00, 683.79it/s]\n"
     ]
    },
    {
     "name": "stdout",
     "output_type": "stream",
     "text": [
      "circle_1_.5\n",
      "construct_circ_filter \n",
      "\n",
      "oms_threshold: 3.2561016949152544\n",
      "torch.Size([1, 2666, 1, 260, 346]) torch.Size([1, 2666, 1, 260, 346]) ('seq_00_frames',)\n"
     ]
    },
    {
     "name": "stderr",
     "output_type": "stream",
     "text": [
      "Computing OMS frames: 100%|██████████| 580/580 [00:00<00:00, 661.33it/s]\n"
     ]
    },
    {
     "name": "stdout",
     "output_type": "stream",
     "text": [
      "circle_1_.5\n",
      "construct_circ_filter \n",
      "\n",
      "oms_threshold: 3.323728813559322\n",
      "torch.Size([1, 2666, 1, 260, 346]) torch.Size([1, 2666, 1, 260, 346]) ('seq_00_frames',)\n"
     ]
    },
    {
     "name": "stderr",
     "output_type": "stream",
     "text": [
      "Computing OMS frames: 100%|██████████| 580/580 [00:00<00:00, 721.25it/s]\n"
     ]
    },
    {
     "name": "stdout",
     "output_type": "stream",
     "text": [
      "circle_1_.5\n",
      "construct_circ_filter \n",
      "\n",
      "oms_threshold: 3.39135593220339\n",
      "torch.Size([1, 2666, 1, 260, 346]) torch.Size([1, 2666, 1, 260, 346]) ('seq_00_frames',)\n"
     ]
    },
    {
     "name": "stderr",
     "output_type": "stream",
     "text": [
      "Computing OMS frames: 100%|██████████| 580/580 [00:00<00:00, 739.27it/s]\n"
     ]
    },
    {
     "name": "stdout",
     "output_type": "stream",
     "text": [
      "circle_1_.5\n",
      "construct_circ_filter \n",
      "\n",
      "oms_threshold: 3.4589830508474577\n",
      "torch.Size([1, 2666, 1, 260, 346]) torch.Size([1, 2666, 1, 260, 346]) ('seq_00_frames',)\n"
     ]
    },
    {
     "name": "stderr",
     "output_type": "stream",
     "text": [
      "Computing OMS frames: 100%|██████████| 580/580 [00:00<00:00, 673.34it/s]\n"
     ]
    },
    {
     "name": "stdout",
     "output_type": "stream",
     "text": [
      "circle_1_.5\n",
      "construct_circ_filter \n",
      "\n",
      "oms_threshold: 3.5266101694915255\n",
      "torch.Size([1, 2666, 1, 260, 346]) torch.Size([1, 2666, 1, 260, 346]) ('seq_00_frames',)\n"
     ]
    },
    {
     "name": "stderr",
     "output_type": "stream",
     "text": [
      "Computing OMS frames: 100%|██████████| 580/580 [00:00<00:00, 609.21it/s]\n"
     ]
    },
    {
     "name": "stdout",
     "output_type": "stream",
     "text": [
      "circle_1_.5\n",
      "construct_circ_filter \n",
      "\n",
      "oms_threshold: 3.5942372881355933\n",
      "torch.Size([1, 2666, 1, 260, 346]) torch.Size([1, 2666, 1, 260, 346]) ('seq_00_frames',)\n"
     ]
    },
    {
     "name": "stderr",
     "output_type": "stream",
     "text": [
      "Computing OMS frames: 100%|██████████| 580/580 [00:00<00:00, 689.10it/s]\n"
     ]
    },
    {
     "name": "stdout",
     "output_type": "stream",
     "text": [
      "circle_1_.5\n",
      "construct_circ_filter \n",
      "\n",
      "oms_threshold: 3.661864406779661\n",
      "torch.Size([1, 2666, 1, 260, 346]) torch.Size([1, 2666, 1, 260, 346]) ('seq_00_frames',)\n"
     ]
    },
    {
     "name": "stderr",
     "output_type": "stream",
     "text": [
      "Computing OMS frames: 100%|██████████| 580/580 [00:00<00:00, 600.80it/s]\n"
     ]
    },
    {
     "name": "stdout",
     "output_type": "stream",
     "text": [
      "circle_1_.5\n",
      "construct_circ_filter \n",
      "\n",
      "oms_threshold: 3.729491525423729\n",
      "torch.Size([1, 2666, 1, 260, 346]) torch.Size([1, 2666, 1, 260, 346]) ('seq_00_frames',)\n"
     ]
    },
    {
     "name": "stderr",
     "output_type": "stream",
     "text": [
      "Computing OMS frames: 100%|██████████| 580/580 [00:00<00:00, 689.53it/s]\n"
     ]
    },
    {
     "name": "stdout",
     "output_type": "stream",
     "text": [
      "circle_1_.5\n",
      "construct_circ_filter \n",
      "\n",
      "oms_threshold: 3.7971186440677966\n",
      "torch.Size([1, 2666, 1, 260, 346]) torch.Size([1, 2666, 1, 260, 346]) ('seq_00_frames',)\n"
     ]
    },
    {
     "name": "stderr",
     "output_type": "stream",
     "text": [
      "Computing OMS frames: 100%|██████████| 580/580 [00:00<00:00, 676.10it/s]\n"
     ]
    },
    {
     "name": "stdout",
     "output_type": "stream",
     "text": [
      "circle_1_.5\n",
      "construct_circ_filter \n",
      "\n",
      "oms_threshold: 3.8647457627118644\n",
      "torch.Size([1, 2666, 1, 260, 346]) torch.Size([1, 2666, 1, 260, 346]) ('seq_00_frames',)\n"
     ]
    },
    {
     "name": "stderr",
     "output_type": "stream",
     "text": [
      "Computing OMS frames: 100%|██████████| 580/580 [00:00<00:00, 706.39it/s]\n"
     ]
    },
    {
     "name": "stdout",
     "output_type": "stream",
     "text": [
      "circle_1_.5\n",
      "construct_circ_filter \n",
      "\n",
      "oms_threshold: 3.932372881355932\n",
      "torch.Size([1, 2666, 1, 260, 346]) torch.Size([1, 2666, 1, 260, 346]) ('seq_00_frames',)\n"
     ]
    },
    {
     "name": "stderr",
     "output_type": "stream",
     "text": [
      "Computing OMS frames: 100%|██████████| 580/580 [00:00<00:00, 702.21it/s]\n"
     ]
    },
    {
     "name": "stdout",
     "output_type": "stream",
     "text": [
      "circle_1_.5\n",
      "construct_circ_filter \n",
      "\n",
      "oms_threshold: 4.0\n",
      "torch.Size([1, 2666, 1, 260, 346]) torch.Size([1, 2666, 1, 260, 346]) ('seq_00_frames',)\n"
     ]
    },
    {
     "name": "stderr",
     "output_type": "stream",
     "text": [
      "Computing OMS frames: 100%|██████████| 580/580 [00:00<00:00, 708.25it/s]\n"
     ]
    },
    {
     "name": "stdout",
     "output_type": "stream",
     "text": [
      "hardware\n",
      "construct_square_filter \n",
      "\n",
      "oms_threshold: 0.01\n",
      "torch.Size([1, 2666, 1, 260, 346]) torch.Size([1, 2666, 1, 260, 346]) ('seq_00_frames',)\n"
     ]
    },
    {
     "name": "stderr",
     "output_type": "stream",
     "text": [
      "Computing OMS frames: 100%|██████████| 580/580 [00:00<00:00, 5496.40it/s]\n"
     ]
    },
    {
     "name": "stdout",
     "output_type": "stream",
     "text": [
      "hardware\n",
      "construct_square_filter \n",
      "\n",
      "oms_threshold: 0.0776271186440678\n",
      "torch.Size([1, 2666, 1, 260, 346]) torch.Size([1, 2666, 1, 260, 346]) ('seq_00_frames',)\n"
     ]
    },
    {
     "name": "stderr",
     "output_type": "stream",
     "text": [
      "Computing OMS frames: 100%|██████████| 580/580 [00:00<00:00, 5895.84it/s]\n"
     ]
    },
    {
     "name": "stdout",
     "output_type": "stream",
     "text": [
      "hardware\n",
      "construct_square_filter \n",
      "\n",
      "oms_threshold: 0.1452542372881356\n",
      "torch.Size([1, 2666, 1, 260, 346]) torch.Size([1, 2666, 1, 260, 346]) ('seq_00_frames',)\n"
     ]
    },
    {
     "name": "stderr",
     "output_type": "stream",
     "text": [
      "Computing OMS frames: 100%|██████████| 580/580 [00:00<00:00, 5664.20it/s]\n"
     ]
    },
    {
     "name": "stdout",
     "output_type": "stream",
     "text": [
      "hardware\n",
      "construct_square_filter \n",
      "\n",
      "oms_threshold: 0.21288135593220342\n",
      "torch.Size([1, 2666, 1, 260, 346]) torch.Size([1, 2666, 1, 260, 346]) ('seq_00_frames',)\n"
     ]
    },
    {
     "name": "stderr",
     "output_type": "stream",
     "text": [
      "Computing OMS frames: 100%|██████████| 580/580 [00:00<00:00, 5736.94it/s]\n"
     ]
    },
    {
     "name": "stdout",
     "output_type": "stream",
     "text": [
      "hardware\n",
      "construct_square_filter \n",
      "\n",
      "oms_threshold: 0.2805084745762712\n",
      "torch.Size([1, 2666, 1, 260, 346]) torch.Size([1, 2666, 1, 260, 346]) ('seq_00_frames',)\n"
     ]
    },
    {
     "name": "stderr",
     "output_type": "stream",
     "text": [
      "Computing OMS frames: 100%|██████████| 580/580 [00:00<00:00, 5800.72it/s]\n"
     ]
    },
    {
     "name": "stdout",
     "output_type": "stream",
     "text": [
      "hardware\n",
      "construct_square_filter \n",
      "\n",
      "oms_threshold: 0.348135593220339\n",
      "torch.Size([1, 2666, 1, 260, 346]) torch.Size([1, 2666, 1, 260, 346]) ('seq_00_frames',)\n"
     ]
    },
    {
     "name": "stderr",
     "output_type": "stream",
     "text": [
      "Computing OMS frames: 100%|██████████| 580/580 [00:00<00:00, 5218.58it/s]\n"
     ]
    },
    {
     "name": "stdout",
     "output_type": "stream",
     "text": [
      "hardware\n",
      "construct_square_filter \n",
      "\n",
      "oms_threshold: 0.41576271186440683\n",
      "torch.Size([1, 2666, 1, 260, 346]) torch.Size([1, 2666, 1, 260, 346]) ('seq_00_frames',)\n"
     ]
    },
    {
     "name": "stderr",
     "output_type": "stream",
     "text": [
      "Computing OMS frames: 100%|██████████| 580/580 [00:00<00:00, 5524.67it/s]\n"
     ]
    },
    {
     "name": "stdout",
     "output_type": "stream",
     "text": [
      "hardware\n",
      "construct_square_filter \n",
      "\n",
      "oms_threshold: 0.4833898305084746\n",
      "torch.Size([1, 2666, 1, 260, 346]) torch.Size([1, 2666, 1, 260, 346]) ('seq_00_frames',)\n"
     ]
    },
    {
     "name": "stderr",
     "output_type": "stream",
     "text": [
      "Computing OMS frames: 100%|██████████| 580/580 [00:00<00:00, 5731.75it/s]\n"
     ]
    },
    {
     "name": "stdout",
     "output_type": "stream",
     "text": [
      "hardware\n",
      "construct_square_filter \n",
      "\n",
      "oms_threshold: 0.5510169491525424\n",
      "torch.Size([1, 2666, 1, 260, 346]) torch.Size([1, 2666, 1, 260, 346]) ('seq_00_frames',)\n"
     ]
    },
    {
     "name": "stderr",
     "output_type": "stream",
     "text": [
      "Computing OMS frames: 100%|██████████| 580/580 [00:00<00:00, 5818.93it/s]\n"
     ]
    },
    {
     "name": "stdout",
     "output_type": "stream",
     "text": [
      "hardware\n",
      "construct_square_filter \n",
      "\n",
      "oms_threshold: 0.6186440677966102\n",
      "torch.Size([1, 2666, 1, 260, 346]) torch.Size([1, 2666, 1, 260, 346]) ('seq_00_frames',)\n"
     ]
    },
    {
     "name": "stderr",
     "output_type": "stream",
     "text": [
      "Computing OMS frames: 100%|██████████| 580/580 [00:00<00:00, 5912.68it/s]\n"
     ]
    },
    {
     "name": "stdout",
     "output_type": "stream",
     "text": [
      "hardware\n",
      "construct_square_filter \n",
      "\n",
      "oms_threshold: 0.686271186440678\n",
      "torch.Size([1, 2666, 1, 260, 346]) torch.Size([1, 2666, 1, 260, 346]) ('seq_00_frames',)\n"
     ]
    },
    {
     "name": "stderr",
     "output_type": "stream",
     "text": [
      "Computing OMS frames: 100%|██████████| 580/580 [00:00<00:00, 5549.73it/s]\n"
     ]
    },
    {
     "name": "stdout",
     "output_type": "stream",
     "text": [
      "hardware\n",
      "construct_square_filter \n",
      "\n",
      "oms_threshold: 0.7538983050847458\n",
      "torch.Size([1, 2666, 1, 260, 346]) torch.Size([1, 2666, 1, 260, 346]) ('seq_00_frames',)\n"
     ]
    },
    {
     "name": "stderr",
     "output_type": "stream",
     "text": [
      "Computing OMS frames: 100%|██████████| 580/580 [00:00<00:00, 5849.11it/s]\n"
     ]
    },
    {
     "name": "stdout",
     "output_type": "stream",
     "text": [
      "hardware\n",
      "construct_square_filter \n",
      "\n",
      "oms_threshold: 0.8215254237288137\n",
      "torch.Size([1, 2666, 1, 260, 346]) torch.Size([1, 2666, 1, 260, 346]) ('seq_00_frames',)\n"
     ]
    },
    {
     "name": "stderr",
     "output_type": "stream",
     "text": [
      "Computing OMS frames: 100%|██████████| 580/580 [00:00<00:00, 5746.86it/s]\n"
     ]
    },
    {
     "name": "stdout",
     "output_type": "stream",
     "text": [
      "hardware\n",
      "construct_square_filter \n",
      "\n",
      "oms_threshold: 0.8891525423728814\n",
      "torch.Size([1, 2666, 1, 260, 346]) torch.Size([1, 2666, 1, 260, 346]) ('seq_00_frames',)\n"
     ]
    },
    {
     "name": "stderr",
     "output_type": "stream",
     "text": [
      "Computing OMS frames: 100%|██████████| 580/580 [00:00<00:00, 5710.21it/s]\n"
     ]
    },
    {
     "name": "stdout",
     "output_type": "stream",
     "text": [
      "hardware\n",
      "construct_square_filter \n",
      "\n",
      "oms_threshold: 0.9567796610169492\n",
      "torch.Size([1, 2666, 1, 260, 346]) torch.Size([1, 2666, 1, 260, 346]) ('seq_00_frames',)\n"
     ]
    },
    {
     "name": "stderr",
     "output_type": "stream",
     "text": [
      "Computing OMS frames: 100%|██████████| 580/580 [00:00<00:00, 6026.79it/s]\n"
     ]
    },
    {
     "name": "stdout",
     "output_type": "stream",
     "text": [
      "hardware\n",
      "construct_square_filter \n",
      "\n",
      "oms_threshold: 1.024406779661017\n",
      "torch.Size([1, 2666, 1, 260, 346]) torch.Size([1, 2666, 1, 260, 346]) ('seq_00_frames',)\n"
     ]
    },
    {
     "name": "stderr",
     "output_type": "stream",
     "text": [
      "Computing OMS frames: 100%|██████████| 580/580 [00:00<00:00, 5078.27it/s]\n"
     ]
    },
    {
     "name": "stdout",
     "output_type": "stream",
     "text": [
      "hardware\n",
      "construct_square_filter \n",
      "\n",
      "oms_threshold: 1.0920338983050848\n",
      "torch.Size([1, 2666, 1, 260, 346]) torch.Size([1, 2666, 1, 260, 346]) ('seq_00_frames',)\n"
     ]
    },
    {
     "name": "stderr",
     "output_type": "stream",
     "text": [
      "Computing OMS frames: 100%|██████████| 580/580 [00:00<00:00, 5910.38it/s]\n"
     ]
    },
    {
     "name": "stdout",
     "output_type": "stream",
     "text": [
      "hardware\n",
      "construct_square_filter \n",
      "\n",
      "oms_threshold: 1.1596610169491526\n",
      "torch.Size([1, 2666, 1, 260, 346]) torch.Size([1, 2666, 1, 260, 346]) ('seq_00_frames',)\n"
     ]
    },
    {
     "name": "stderr",
     "output_type": "stream",
     "text": [
      "Computing OMS frames: 100%|██████████| 580/580 [00:00<00:00, 5479.06it/s]\n"
     ]
    },
    {
     "name": "stdout",
     "output_type": "stream",
     "text": [
      "hardware\n",
      "construct_square_filter \n",
      "\n",
      "oms_threshold: 1.2272881355932204\n",
      "torch.Size([1, 2666, 1, 260, 346]) torch.Size([1, 2666, 1, 260, 346]) ('seq_00_frames',)\n"
     ]
    },
    {
     "name": "stderr",
     "output_type": "stream",
     "text": [
      "Computing OMS frames: 100%|██████████| 580/580 [00:00<00:00, 5574.23it/s]\n"
     ]
    },
    {
     "name": "stdout",
     "output_type": "stream",
     "text": [
      "hardware\n",
      "construct_square_filter \n",
      "\n",
      "oms_threshold: 1.2949152542372881\n",
      "torch.Size([1, 2666, 1, 260, 346]) torch.Size([1, 2666, 1, 260, 346]) ('seq_00_frames',)\n"
     ]
    },
    {
     "name": "stderr",
     "output_type": "stream",
     "text": [
      "Computing OMS frames: 100%|██████████| 580/580 [00:00<00:00, 5828.27it/s]\n"
     ]
    },
    {
     "name": "stdout",
     "output_type": "stream",
     "text": [
      "hardware\n",
      "construct_square_filter \n",
      "\n",
      "oms_threshold: 1.362542372881356\n",
      "torch.Size([1, 2666, 1, 260, 346]) torch.Size([1, 2666, 1, 260, 346]) ('seq_00_frames',)\n"
     ]
    },
    {
     "name": "stderr",
     "output_type": "stream",
     "text": [
      "Computing OMS frames: 100%|██████████| 580/580 [00:00<00:00, 5817.77it/s]\n"
     ]
    },
    {
     "name": "stdout",
     "output_type": "stream",
     "text": [
      "hardware\n",
      "construct_square_filter \n",
      "\n",
      "oms_threshold: 1.4301694915254237\n",
      "torch.Size([1, 2666, 1, 260, 346]) torch.Size([1, 2666, 1, 260, 346]) ('seq_00_frames',)\n"
     ]
    },
    {
     "name": "stderr",
     "output_type": "stream",
     "text": [
      "Computing OMS frames: 100%|██████████| 580/580 [00:00<00:00, 5810.81it/s]\n"
     ]
    },
    {
     "name": "stdout",
     "output_type": "stream",
     "text": [
      "hardware\n",
      "construct_square_filter \n",
      "\n",
      "oms_threshold: 1.4977966101694915\n",
      "torch.Size([1, 2666, 1, 260, 346]) torch.Size([1, 2666, 1, 260, 346]) ('seq_00_frames',)\n"
     ]
    },
    {
     "name": "stderr",
     "output_type": "stream",
     "text": [
      "Computing OMS frames: 100%|██████████| 580/580 [00:00<00:00, 5600.23it/s]\n"
     ]
    },
    {
     "name": "stdout",
     "output_type": "stream",
     "text": [
      "hardware\n",
      "construct_square_filter \n",
      "\n",
      "oms_threshold: 1.5654237288135593\n",
      "torch.Size([1, 2666, 1, 260, 346]) torch.Size([1, 2666, 1, 260, 346]) ('seq_00_frames',)\n"
     ]
    },
    {
     "name": "stderr",
     "output_type": "stream",
     "text": [
      "Computing OMS frames: 100%|██████████| 580/580 [00:00<00:00, 5813.66it/s]\n"
     ]
    },
    {
     "name": "stdout",
     "output_type": "stream",
     "text": [
      "hardware\n",
      "construct_square_filter \n",
      "\n",
      "oms_threshold: 1.6330508474576273\n",
      "torch.Size([1, 2666, 1, 260, 346]) torch.Size([1, 2666, 1, 260, 346]) ('seq_00_frames',)\n"
     ]
    },
    {
     "name": "stderr",
     "output_type": "stream",
     "text": [
      "Computing OMS frames: 100%|██████████| 580/580 [00:00<00:00, 5374.95it/s]\n"
     ]
    },
    {
     "name": "stdout",
     "output_type": "stream",
     "text": [
      "hardware\n",
      "construct_square_filter \n",
      "\n",
      "oms_threshold: 1.700677966101695\n",
      "torch.Size([1, 2666, 1, 260, 346]) torch.Size([1, 2666, 1, 260, 346]) ('seq_00_frames',)\n"
     ]
    },
    {
     "name": "stderr",
     "output_type": "stream",
     "text": [
      "Computing OMS frames: 100%|██████████| 580/580 [00:00<00:00, 5868.72it/s]\n"
     ]
    },
    {
     "name": "stdout",
     "output_type": "stream",
     "text": [
      "hardware\n",
      "construct_square_filter \n",
      "\n",
      "oms_threshold: 1.7683050847457629\n",
      "torch.Size([1, 2666, 1, 260, 346]) torch.Size([1, 2666, 1, 260, 346]) ('seq_00_frames',)\n"
     ]
    },
    {
     "name": "stderr",
     "output_type": "stream",
     "text": [
      "Computing OMS frames: 100%|██████████| 580/580 [00:00<00:00, 5217.81it/s]\n"
     ]
    },
    {
     "name": "stdout",
     "output_type": "stream",
     "text": [
      "hardware\n",
      "construct_square_filter \n",
      "\n",
      "oms_threshold: 1.8359322033898307\n",
      "torch.Size([1, 2666, 1, 260, 346]) torch.Size([1, 2666, 1, 260, 346]) ('seq_00_frames',)\n"
     ]
    },
    {
     "name": "stderr",
     "output_type": "stream",
     "text": [
      "Computing OMS frames: 100%|██████████| 580/580 [00:00<00:00, 5089.20it/s]\n"
     ]
    },
    {
     "name": "stdout",
     "output_type": "stream",
     "text": [
      "hardware\n",
      "construct_square_filter \n",
      "\n",
      "oms_threshold: 1.9035593220338984\n",
      "torch.Size([1, 2666, 1, 260, 346]) torch.Size([1, 2666, 1, 260, 346]) ('seq_00_frames',)\n"
     ]
    },
    {
     "name": "stderr",
     "output_type": "stream",
     "text": [
      "Computing OMS frames: 100%|██████████| 580/580 [00:00<00:00, 5604.45it/s]\n"
     ]
    },
    {
     "name": "stdout",
     "output_type": "stream",
     "text": [
      "hardware\n",
      "construct_square_filter \n",
      "\n",
      "oms_threshold: 1.9711864406779662\n",
      "torch.Size([1, 2666, 1, 260, 346]) torch.Size([1, 2666, 1, 260, 346]) ('seq_00_frames',)\n"
     ]
    },
    {
     "name": "stderr",
     "output_type": "stream",
     "text": [
      "Computing OMS frames: 100%|██████████| 580/580 [00:00<00:00, 5334.76it/s]\n"
     ]
    },
    {
     "name": "stdout",
     "output_type": "stream",
     "text": [
      "hardware\n",
      "construct_square_filter \n",
      "\n",
      "oms_threshold: 2.038813559322034\n",
      "torch.Size([1, 2666, 1, 260, 346]) torch.Size([1, 2666, 1, 260, 346]) ('seq_00_frames',)\n"
     ]
    },
    {
     "name": "stderr",
     "output_type": "stream",
     "text": [
      "Computing OMS frames: 100%|██████████| 580/580 [00:00<00:00, 5825.28it/s]\n"
     ]
    },
    {
     "name": "stdout",
     "output_type": "stream",
     "text": [
      "hardware\n",
      "construct_square_filter \n",
      "\n",
      "oms_threshold: 2.1064406779661016\n",
      "torch.Size([1, 2666, 1, 260, 346]) torch.Size([1, 2666, 1, 260, 346]) ('seq_00_frames',)\n"
     ]
    },
    {
     "name": "stderr",
     "output_type": "stream",
     "text": [
      "Computing OMS frames: 100%|██████████| 580/580 [00:00<00:00, 4617.89it/s]\n"
     ]
    },
    {
     "name": "stdout",
     "output_type": "stream",
     "text": [
      "hardware\n",
      "construct_square_filter \n",
      "\n",
      "oms_threshold: 2.1740677966101694\n",
      "torch.Size([1, 2666, 1, 260, 346]) torch.Size([1, 2666, 1, 260, 346]) ('seq_00_frames',)\n"
     ]
    },
    {
     "name": "stderr",
     "output_type": "stream",
     "text": [
      "Computing OMS frames: 100%|██████████| 580/580 [00:00<00:00, 5715.13it/s]\n"
     ]
    },
    {
     "name": "stdout",
     "output_type": "stream",
     "text": [
      "hardware\n",
      "construct_square_filter \n",
      "\n",
      "oms_threshold: 2.241694915254237\n",
      "torch.Size([1, 2666, 1, 260, 346]) torch.Size([1, 2666, 1, 260, 346]) ('seq_00_frames',)\n"
     ]
    },
    {
     "name": "stderr",
     "output_type": "stream",
     "text": [
      "Computing OMS frames: 100%|██████████| 580/580 [00:00<00:00, 5743.82it/s]\n"
     ]
    },
    {
     "name": "stdout",
     "output_type": "stream",
     "text": [
      "hardware\n",
      "construct_square_filter \n",
      "\n",
      "oms_threshold: 2.309322033898305\n",
      "torch.Size([1, 2666, 1, 260, 346]) torch.Size([1, 2666, 1, 260, 346]) ('seq_00_frames',)\n"
     ]
    },
    {
     "name": "stderr",
     "output_type": "stream",
     "text": [
      "Computing OMS frames: 100%|██████████| 580/580 [00:00<00:00, 5437.91it/s]\n"
     ]
    },
    {
     "name": "stdout",
     "output_type": "stream",
     "text": [
      "hardware\n",
      "construct_square_filter \n",
      "\n",
      "oms_threshold: 2.3769491525423727\n",
      "torch.Size([1, 2666, 1, 260, 346]) torch.Size([1, 2666, 1, 260, 346]) ('seq_00_frames',)\n"
     ]
    },
    {
     "name": "stderr",
     "output_type": "stream",
     "text": [
      "Computing OMS frames: 100%|██████████| 580/580 [00:00<00:00, 5766.57it/s]\n"
     ]
    },
    {
     "name": "stdout",
     "output_type": "stream",
     "text": [
      "hardware\n",
      "construct_square_filter \n",
      "\n",
      "oms_threshold: 2.4445762711864405\n",
      "torch.Size([1, 2666, 1, 260, 346]) torch.Size([1, 2666, 1, 260, 346]) ('seq_00_frames',)\n"
     ]
    },
    {
     "name": "stderr",
     "output_type": "stream",
     "text": [
      "Computing OMS frames: 100%|██████████| 580/580 [00:00<00:00, 4893.16it/s]\n"
     ]
    },
    {
     "name": "stdout",
     "output_type": "stream",
     "text": [
      "hardware\n",
      "construct_square_filter \n",
      "\n",
      "oms_threshold: 2.5122033898305083\n",
      "torch.Size([1, 2666, 1, 260, 346]) torch.Size([1, 2666, 1, 260, 346]) ('seq_00_frames',)\n"
     ]
    },
    {
     "name": "stderr",
     "output_type": "stream",
     "text": [
      "Computing OMS frames: 100%|██████████| 580/580 [00:00<00:00, 5712.77it/s]\n"
     ]
    },
    {
     "name": "stdout",
     "output_type": "stream",
     "text": [
      "hardware\n",
      "construct_square_filter \n",
      "\n",
      "oms_threshold: 2.579830508474576\n",
      "torch.Size([1, 2666, 1, 260, 346]) torch.Size([1, 2666, 1, 260, 346]) ('seq_00_frames',)\n"
     ]
    },
    {
     "name": "stderr",
     "output_type": "stream",
     "text": [
      "Computing OMS frames: 100%|██████████| 580/580 [00:00<00:00, 5612.95it/s]\n"
     ]
    },
    {
     "name": "stdout",
     "output_type": "stream",
     "text": [
      "hardware\n",
      "construct_square_filter \n",
      "\n",
      "oms_threshold: 2.647457627118644\n",
      "torch.Size([1, 2666, 1, 260, 346]) torch.Size([1, 2666, 1, 260, 346]) ('seq_00_frames',)\n"
     ]
    },
    {
     "name": "stderr",
     "output_type": "stream",
     "text": [
      "Computing OMS frames: 100%|██████████| 580/580 [00:00<00:00, 5484.78it/s]\n"
     ]
    },
    {
     "name": "stdout",
     "output_type": "stream",
     "text": [
      "hardware\n",
      "construct_square_filter \n",
      "\n",
      "oms_threshold: 2.7150847457627116\n",
      "torch.Size([1, 2666, 1, 260, 346]) torch.Size([1, 2666, 1, 260, 346]) ('seq_00_frames',)\n"
     ]
    },
    {
     "name": "stderr",
     "output_type": "stream",
     "text": [
      "Computing OMS frames: 100%|██████████| 580/580 [00:00<00:00, 5969.32it/s]\n"
     ]
    },
    {
     "name": "stdout",
     "output_type": "stream",
     "text": [
      "hardware\n",
      "construct_square_filter \n",
      "\n",
      "oms_threshold: 2.7827118644067794\n",
      "torch.Size([1, 2666, 1, 260, 346]) torch.Size([1, 2666, 1, 260, 346]) ('seq_00_frames',)\n"
     ]
    },
    {
     "name": "stderr",
     "output_type": "stream",
     "text": [
      "Computing OMS frames: 100%|██████████| 580/580 [00:00<00:00, 5674.60it/s]\n"
     ]
    },
    {
     "name": "stdout",
     "output_type": "stream",
     "text": [
      "hardware\n",
      "construct_square_filter \n",
      "\n",
      "oms_threshold: 2.850338983050847\n",
      "torch.Size([1, 2666, 1, 260, 346]) torch.Size([1, 2666, 1, 260, 346]) ('seq_00_frames',)\n"
     ]
    },
    {
     "name": "stderr",
     "output_type": "stream",
     "text": [
      "Computing OMS frames: 100%|██████████| 580/580 [00:00<00:00, 5757.79it/s]\n"
     ]
    },
    {
     "name": "stdout",
     "output_type": "stream",
     "text": [
      "hardware\n",
      "construct_square_filter \n",
      "\n",
      "oms_threshold: 2.917966101694915\n",
      "torch.Size([1, 2666, 1, 260, 346]) torch.Size([1, 2666, 1, 260, 346]) ('seq_00_frames',)\n"
     ]
    },
    {
     "name": "stderr",
     "output_type": "stream",
     "text": [
      "Computing OMS frames: 100%|██████████| 580/580 [00:00<00:00, 5423.17it/s]\n"
     ]
    },
    {
     "name": "stdout",
     "output_type": "stream",
     "text": [
      "hardware\n",
      "construct_square_filter \n",
      "\n",
      "oms_threshold: 2.985593220338983\n",
      "torch.Size([1, 2666, 1, 260, 346]) torch.Size([1, 2666, 1, 260, 346]) ('seq_00_frames',)\n"
     ]
    },
    {
     "name": "stderr",
     "output_type": "stream",
     "text": [
      "Computing OMS frames: 100%|██████████| 580/580 [00:00<00:00, 5560.46it/s]\n"
     ]
    },
    {
     "name": "stdout",
     "output_type": "stream",
     "text": [
      "hardware\n",
      "construct_square_filter \n",
      "\n",
      "oms_threshold: 3.0532203389830506\n",
      "torch.Size([1, 2666, 1, 260, 346]) torch.Size([1, 2666, 1, 260, 346]) ('seq_00_frames',)\n"
     ]
    },
    {
     "name": "stderr",
     "output_type": "stream",
     "text": [
      "Computing OMS frames: 100%|██████████| 580/580 [00:00<00:00, 5460.57it/s]\n"
     ]
    },
    {
     "name": "stdout",
     "output_type": "stream",
     "text": [
      "hardware\n",
      "construct_square_filter \n",
      "\n",
      "oms_threshold: 3.1208474576271183\n",
      "torch.Size([1, 2666, 1, 260, 346]) torch.Size([1, 2666, 1, 260, 346]) ('seq_00_frames',)\n"
     ]
    },
    {
     "name": "stderr",
     "output_type": "stream",
     "text": [
      "Computing OMS frames: 100%|██████████| 580/580 [00:00<00:00, 5484.58it/s]\n"
     ]
    },
    {
     "name": "stdout",
     "output_type": "stream",
     "text": [
      "hardware\n",
      "construct_square_filter \n",
      "\n",
      "oms_threshold: 3.188474576271186\n",
      "torch.Size([1, 2666, 1, 260, 346]) torch.Size([1, 2666, 1, 260, 346]) ('seq_00_frames',)\n"
     ]
    },
    {
     "name": "stderr",
     "output_type": "stream",
     "text": [
      "Computing OMS frames: 100%|██████████| 580/580 [00:00<00:00, 5285.59it/s]\n"
     ]
    },
    {
     "name": "stdout",
     "output_type": "stream",
     "text": [
      "hardware\n",
      "construct_square_filter \n",
      "\n",
      "oms_threshold: 3.2561016949152544\n",
      "torch.Size([1, 2666, 1, 260, 346]) torch.Size([1, 2666, 1, 260, 346]) ('seq_00_frames',)\n"
     ]
    },
    {
     "name": "stderr",
     "output_type": "stream",
     "text": [
      "Computing OMS frames: 100%|██████████| 580/580 [00:00<00:00, 5573.65it/s]\n"
     ]
    },
    {
     "name": "stdout",
     "output_type": "stream",
     "text": [
      "hardware\n",
      "construct_square_filter \n",
      "\n",
      "oms_threshold: 3.323728813559322\n",
      "torch.Size([1, 2666, 1, 260, 346]) torch.Size([1, 2666, 1, 260, 346]) ('seq_00_frames',)\n"
     ]
    },
    {
     "name": "stderr",
     "output_type": "stream",
     "text": [
      "Computing OMS frames: 100%|██████████| 580/580 [00:00<00:00, 5540.25it/s]\n"
     ]
    },
    {
     "name": "stdout",
     "output_type": "stream",
     "text": [
      "hardware\n",
      "construct_square_filter \n",
      "\n",
      "oms_threshold: 3.39135593220339\n",
      "torch.Size([1, 2666, 1, 260, 346]) torch.Size([1, 2666, 1, 260, 346]) ('seq_00_frames',)\n"
     ]
    },
    {
     "name": "stderr",
     "output_type": "stream",
     "text": [
      "Computing OMS frames: 100%|██████████| 580/580 [00:00<00:00, 5431.65it/s]\n"
     ]
    },
    {
     "name": "stdout",
     "output_type": "stream",
     "text": [
      "hardware\n",
      "construct_square_filter \n",
      "\n",
      "oms_threshold: 3.4589830508474577\n",
      "torch.Size([1, 2666, 1, 260, 346]) torch.Size([1, 2666, 1, 260, 346]) ('seq_00_frames',)\n"
     ]
    },
    {
     "name": "stderr",
     "output_type": "stream",
     "text": [
      "Computing OMS frames: 100%|██████████| 580/580 [00:00<00:00, 4936.08it/s]\n"
     ]
    },
    {
     "name": "stdout",
     "output_type": "stream",
     "text": [
      "hardware\n",
      "construct_square_filter \n",
      "\n",
      "oms_threshold: 3.5266101694915255\n",
      "torch.Size([1, 2666, 1, 260, 346]) torch.Size([1, 2666, 1, 260, 346]) ('seq_00_frames',)\n"
     ]
    },
    {
     "name": "stderr",
     "output_type": "stream",
     "text": [
      "Computing OMS frames: 100%|██████████| 580/580 [00:00<00:00, 5723.30it/s]\n"
     ]
    },
    {
     "name": "stdout",
     "output_type": "stream",
     "text": [
      "hardware\n",
      "construct_square_filter \n",
      "\n",
      "oms_threshold: 3.5942372881355933\n",
      "torch.Size([1, 2666, 1, 260, 346]) torch.Size([1, 2666, 1, 260, 346]) ('seq_00_frames',)\n"
     ]
    },
    {
     "name": "stderr",
     "output_type": "stream",
     "text": [
      "Computing OMS frames: 100%|██████████| 580/580 [00:00<00:00, 5338.35it/s]\n"
     ]
    },
    {
     "name": "stdout",
     "output_type": "stream",
     "text": [
      "hardware\n",
      "construct_square_filter \n",
      "\n",
      "oms_threshold: 3.661864406779661\n",
      "torch.Size([1, 2666, 1, 260, 346]) torch.Size([1, 2666, 1, 260, 346]) ('seq_00_frames',)\n"
     ]
    },
    {
     "name": "stderr",
     "output_type": "stream",
     "text": [
      "Computing OMS frames: 100%|██████████| 580/580 [00:00<00:00, 5577.12it/s]\n"
     ]
    },
    {
     "name": "stdout",
     "output_type": "stream",
     "text": [
      "hardware\n",
      "construct_square_filter \n",
      "\n",
      "oms_threshold: 3.729491525423729\n",
      "torch.Size([1, 2666, 1, 260, 346]) torch.Size([1, 2666, 1, 260, 346]) ('seq_00_frames',)\n"
     ]
    },
    {
     "name": "stderr",
     "output_type": "stream",
     "text": [
      "Computing OMS frames: 100%|██████████| 580/580 [00:00<00:00, 5631.82it/s]\n"
     ]
    },
    {
     "name": "stdout",
     "output_type": "stream",
     "text": [
      "hardware\n",
      "construct_square_filter \n",
      "\n",
      "oms_threshold: 3.7971186440677966\n",
      "torch.Size([1, 2666, 1, 260, 346]) torch.Size([1, 2666, 1, 260, 346]) ('seq_00_frames',)\n"
     ]
    },
    {
     "name": "stderr",
     "output_type": "stream",
     "text": [
      "Computing OMS frames: 100%|██████████| 580/580 [00:00<00:00, 5166.45it/s]\n"
     ]
    },
    {
     "name": "stdout",
     "output_type": "stream",
     "text": [
      "hardware\n",
      "construct_square_filter \n",
      "\n",
      "oms_threshold: 3.8647457627118644\n",
      "torch.Size([1, 2666, 1, 260, 346]) torch.Size([1, 2666, 1, 260, 346]) ('seq_00_frames',)\n"
     ]
    },
    {
     "name": "stderr",
     "output_type": "stream",
     "text": [
      "Computing OMS frames: 100%|██████████| 580/580 [00:00<00:00, 5457.31it/s]\n"
     ]
    },
    {
     "name": "stdout",
     "output_type": "stream",
     "text": [
      "hardware\n",
      "construct_square_filter \n",
      "\n",
      "oms_threshold: 3.932372881355932\n",
      "torch.Size([1, 2666, 1, 260, 346]) torch.Size([1, 2666, 1, 260, 346]) ('seq_00_frames',)\n"
     ]
    },
    {
     "name": "stderr",
     "output_type": "stream",
     "text": [
      "Computing OMS frames: 100%|██████████| 580/580 [00:00<00:00, 5561.47it/s]\n"
     ]
    },
    {
     "name": "stdout",
     "output_type": "stream",
     "text": [
      "hardware\n",
      "construct_square_filter \n",
      "\n",
      "oms_threshold: 4.0\n",
      "torch.Size([1, 2666, 1, 260, 346]) torch.Size([1, 2666, 1, 260, 346]) ('seq_00_frames',)\n"
     ]
    },
    {
     "name": "stderr",
     "output_type": "stream",
     "text": [
      "Computing OMS frames: 100%|██████████| 580/580 [00:00<00:00, 5169.83it/s]\n"
     ]
    },
    {
     "name": "stdout",
     "output_type": "stream",
     "text": [
      "neuroscience\n",
      "gaussian_filter \n",
      "\n",
      "oms_threshold: 0.3\n",
      "torch.Size([1, 2666, 1, 260, 346]) torch.Size([1, 2666, 1, 260, 346]) ('seq_00_frames',)\n"
     ]
    },
    {
     "name": "stderr",
     "output_type": "stream",
     "text": [
      "Computing OMS frames: 100%|██████████| 580/580 [00:01<00:00, 496.22it/s]\n"
     ]
    },
    {
     "name": "stdout",
     "output_type": "stream",
     "text": [
      "neuroscience\n",
      "gaussian_filter \n",
      "\n",
      "oms_threshold: 0.3237927586206896\n",
      "torch.Size([1, 2666, 1, 260, 346]) torch.Size([1, 2666, 1, 260, 346]) ('seq_00_frames',)\n"
     ]
    },
    {
     "name": "stderr",
     "output_type": "stream",
     "text": [
      "Computing OMS frames: 100%|██████████| 580/580 [00:01<00:00, 503.45it/s]\n"
     ]
    },
    {
     "name": "stdout",
     "output_type": "stream",
     "text": [
      "neuroscience\n",
      "gaussian_filter \n",
      "\n",
      "oms_threshold: 0.3475855172413793\n",
      "torch.Size([1, 2666, 1, 260, 346]) torch.Size([1, 2666, 1, 260, 346]) ('seq_00_frames',)\n"
     ]
    },
    {
     "name": "stderr",
     "output_type": "stream",
     "text": [
      "Computing OMS frames: 100%|██████████| 580/580 [00:01<00:00, 526.31it/s]\n"
     ]
    },
    {
     "name": "stdout",
     "output_type": "stream",
     "text": [
      "neuroscience\n",
      "gaussian_filter \n",
      "\n",
      "oms_threshold: 0.37137827586206895\n",
      "torch.Size([1, 2666, 1, 260, 346]) torch.Size([1, 2666, 1, 260, 346]) ('seq_00_frames',)\n"
     ]
    },
    {
     "name": "stderr",
     "output_type": "stream",
     "text": [
      "Computing OMS frames: 100%|██████████| 580/580 [00:01<00:00, 528.07it/s]\n"
     ]
    },
    {
     "name": "stdout",
     "output_type": "stream",
     "text": [
      "neuroscience\n",
      "gaussian_filter \n",
      "\n",
      "oms_threshold: 0.39517103448275864\n",
      "torch.Size([1, 2666, 1, 260, 346]) torch.Size([1, 2666, 1, 260, 346]) ('seq_00_frames',)\n"
     ]
    },
    {
     "name": "stderr",
     "output_type": "stream",
     "text": [
      "Computing OMS frames: 100%|██████████| 580/580 [00:01<00:00, 507.07it/s]\n"
     ]
    },
    {
     "name": "stdout",
     "output_type": "stream",
     "text": [
      "neuroscience\n",
      "gaussian_filter \n",
      "\n",
      "oms_threshold: 0.4189637931034483\n",
      "torch.Size([1, 2666, 1, 260, 346]) torch.Size([1, 2666, 1, 260, 346]) ('seq_00_frames',)\n"
     ]
    },
    {
     "name": "stderr",
     "output_type": "stream",
     "text": [
      "Computing OMS frames: 100%|██████████| 580/580 [00:01<00:00, 514.06it/s]\n"
     ]
    },
    {
     "name": "stdout",
     "output_type": "stream",
     "text": [
      "neuroscience\n",
      "gaussian_filter \n",
      "\n",
      "oms_threshold: 0.44275655172413797\n",
      "torch.Size([1, 2666, 1, 260, 346]) torch.Size([1, 2666, 1, 260, 346]) ('seq_00_frames',)\n"
     ]
    },
    {
     "name": "stderr",
     "output_type": "stream",
     "text": [
      "Computing OMS frames: 100%|██████████| 580/580 [00:01<00:00, 541.28it/s]\n"
     ]
    },
    {
     "name": "stdout",
     "output_type": "stream",
     "text": [
      "neuroscience\n",
      "gaussian_filter \n",
      "\n",
      "oms_threshold: 0.4665493103448276\n",
      "torch.Size([1, 2666, 1, 260, 346]) torch.Size([1, 2666, 1, 260, 346]) ('seq_00_frames',)\n"
     ]
    },
    {
     "name": "stderr",
     "output_type": "stream",
     "text": [
      "Computing OMS frames: 100%|██████████| 580/580 [00:01<00:00, 543.42it/s]\n"
     ]
    },
    {
     "name": "stdout",
     "output_type": "stream",
     "text": [
      "neuroscience\n",
      "gaussian_filter \n",
      "\n",
      "oms_threshold: 0.49034206896551724\n",
      "torch.Size([1, 2666, 1, 260, 346]) torch.Size([1, 2666, 1, 260, 346]) ('seq_00_frames',)\n"
     ]
    },
    {
     "name": "stderr",
     "output_type": "stream",
     "text": [
      "Computing OMS frames: 100%|██████████| 580/580 [00:01<00:00, 510.74it/s]\n"
     ]
    },
    {
     "name": "stdout",
     "output_type": "stream",
     "text": [
      "neuroscience\n",
      "gaussian_filter \n",
      "\n",
      "oms_threshold: 0.514134827586207\n",
      "torch.Size([1, 2666, 1, 260, 346]) torch.Size([1, 2666, 1, 260, 346]) ('seq_00_frames',)\n"
     ]
    },
    {
     "name": "stderr",
     "output_type": "stream",
     "text": [
      "Computing OMS frames: 100%|██████████| 580/580 [00:01<00:00, 543.98it/s]\n"
     ]
    },
    {
     "name": "stdout",
     "output_type": "stream",
     "text": [
      "neuroscience\n",
      "gaussian_filter \n",
      "\n",
      "oms_threshold: 0.5379275862068966\n",
      "torch.Size([1, 2666, 1, 260, 346]) torch.Size([1, 2666, 1, 260, 346]) ('seq_00_frames',)\n"
     ]
    },
    {
     "name": "stderr",
     "output_type": "stream",
     "text": [
      "Computing OMS frames: 100%|██████████| 580/580 [00:01<00:00, 557.09it/s]\n"
     ]
    },
    {
     "name": "stdout",
     "output_type": "stream",
     "text": [
      "neuroscience\n",
      "gaussian_filter \n",
      "\n",
      "oms_threshold: 0.5617203448275863\n",
      "torch.Size([1, 2666, 1, 260, 346]) torch.Size([1, 2666, 1, 260, 346]) ('seq_00_frames',)\n"
     ]
    },
    {
     "name": "stderr",
     "output_type": "stream",
     "text": [
      "Computing OMS frames: 100%|██████████| 580/580 [00:01<00:00, 545.31it/s]\n"
     ]
    },
    {
     "name": "stdout",
     "output_type": "stream",
     "text": [
      "neuroscience\n",
      "gaussian_filter \n",
      "\n",
      "oms_threshold: 0.5855131034482759\n",
      "torch.Size([1, 2666, 1, 260, 346]) torch.Size([1, 2666, 1, 260, 346]) ('seq_00_frames',)\n"
     ]
    },
    {
     "name": "stderr",
     "output_type": "stream",
     "text": [
      "Computing OMS frames: 100%|██████████| 580/580 [00:01<00:00, 530.56it/s]\n"
     ]
    },
    {
     "name": "stdout",
     "output_type": "stream",
     "text": [
      "neuroscience\n",
      "gaussian_filter \n",
      "\n",
      "oms_threshold: 0.6093058620689655\n",
      "torch.Size([1, 2666, 1, 260, 346]) torch.Size([1, 2666, 1, 260, 346]) ('seq_00_frames',)\n"
     ]
    },
    {
     "name": "stderr",
     "output_type": "stream",
     "text": [
      "Computing OMS frames: 100%|██████████| 580/580 [00:01<00:00, 553.16it/s]\n"
     ]
    },
    {
     "name": "stdout",
     "output_type": "stream",
     "text": [
      "neuroscience\n",
      "gaussian_filter \n",
      "\n",
      "oms_threshold: 0.6330986206896552\n",
      "torch.Size([1, 2666, 1, 260, 346]) torch.Size([1, 2666, 1, 260, 346]) ('seq_00_frames',)\n"
     ]
    },
    {
     "name": "stderr",
     "output_type": "stream",
     "text": [
      "Computing OMS frames: 100%|██████████| 580/580 [00:01<00:00, 508.88it/s]\n"
     ]
    },
    {
     "name": "stdout",
     "output_type": "stream",
     "text": [
      "neuroscience\n",
      "gaussian_filter \n",
      "\n",
      "oms_threshold: 0.6568913793103449\n",
      "torch.Size([1, 2666, 1, 260, 346]) torch.Size([1, 2666, 1, 260, 346]) ('seq_00_frames',)\n"
     ]
    },
    {
     "name": "stderr",
     "output_type": "stream",
     "text": [
      "Computing OMS frames: 100%|██████████| 580/580 [00:01<00:00, 564.21it/s]\n"
     ]
    },
    {
     "name": "stdout",
     "output_type": "stream",
     "text": [
      "neuroscience\n",
      "gaussian_filter \n",
      "\n",
      "oms_threshold: 0.6806841379310345\n",
      "torch.Size([1, 2666, 1, 260, 346]) torch.Size([1, 2666, 1, 260, 346]) ('seq_00_frames',)\n"
     ]
    },
    {
     "name": "stderr",
     "output_type": "stream",
     "text": [
      "Computing OMS frames: 100%|██████████| 580/580 [00:01<00:00, 503.37it/s]\n"
     ]
    },
    {
     "name": "stdout",
     "output_type": "stream",
     "text": [
      "neuroscience\n",
      "gaussian_filter \n",
      "\n",
      "oms_threshold: 0.7044768965517242\n",
      "torch.Size([1, 2666, 1, 260, 346]) torch.Size([1, 2666, 1, 260, 346]) ('seq_00_frames',)\n"
     ]
    },
    {
     "name": "stderr",
     "output_type": "stream",
     "text": [
      "Computing OMS frames: 100%|██████████| 580/580 [00:01<00:00, 556.10it/s]\n"
     ]
    },
    {
     "name": "stdout",
     "output_type": "stream",
     "text": [
      "neuroscience\n",
      "gaussian_filter \n",
      "\n",
      "oms_threshold: 0.7282696551724139\n",
      "torch.Size([1, 2666, 1, 260, 346]) torch.Size([1, 2666, 1, 260, 346]) ('seq_00_frames',)\n"
     ]
    },
    {
     "name": "stderr",
     "output_type": "stream",
     "text": [
      "Computing OMS frames: 100%|██████████| 580/580 [00:01<00:00, 502.37it/s]\n"
     ]
    },
    {
     "name": "stdout",
     "output_type": "stream",
     "text": [
      "neuroscience\n",
      "gaussian_filter \n",
      "\n",
      "oms_threshold: 0.7520624137931036\n",
      "torch.Size([1, 2666, 1, 260, 346]) torch.Size([1, 2666, 1, 260, 346]) ('seq_00_frames',)\n"
     ]
    },
    {
     "name": "stderr",
     "output_type": "stream",
     "text": [
      "Computing OMS frames: 100%|██████████| 580/580 [00:01<00:00, 503.45it/s]\n"
     ]
    },
    {
     "name": "stdout",
     "output_type": "stream",
     "text": [
      "neuroscience\n",
      "gaussian_filter \n",
      "\n",
      "oms_threshold: 0.7758551724137932\n",
      "torch.Size([1, 2666, 1, 260, 346]) torch.Size([1, 2666, 1, 260, 346]) ('seq_00_frames',)\n"
     ]
    },
    {
     "name": "stderr",
     "output_type": "stream",
     "text": [
      "Computing OMS frames: 100%|██████████| 580/580 [00:01<00:00, 563.96it/s]\n"
     ]
    },
    {
     "name": "stdout",
     "output_type": "stream",
     "text": [
      "neuroscience\n",
      "gaussian_filter \n",
      "\n",
      "oms_threshold: 0.7996479310344828\n",
      "torch.Size([1, 2666, 1, 260, 346]) torch.Size([1, 2666, 1, 260, 346]) ('seq_00_frames',)\n"
     ]
    },
    {
     "name": "stderr",
     "output_type": "stream",
     "text": [
      "Computing OMS frames: 100%|██████████| 580/580 [00:01<00:00, 493.74it/s]\n"
     ]
    },
    {
     "name": "stdout",
     "output_type": "stream",
     "text": [
      "neuroscience\n",
      "gaussian_filter \n",
      "\n",
      "oms_threshold: 0.8234406896551725\n",
      "torch.Size([1, 2666, 1, 260, 346]) torch.Size([1, 2666, 1, 260, 346]) ('seq_00_frames',)\n"
     ]
    },
    {
     "name": "stderr",
     "output_type": "stream",
     "text": [
      "Computing OMS frames: 100%|██████████| 580/580 [00:01<00:00, 529.06it/s]\n"
     ]
    },
    {
     "name": "stdout",
     "output_type": "stream",
     "text": [
      "neuroscience\n",
      "gaussian_filter \n",
      "\n",
      "oms_threshold: 0.8472334482758621\n",
      "torch.Size([1, 2666, 1, 260, 346]) torch.Size([1, 2666, 1, 260, 346]) ('seq_00_frames',)\n"
     ]
    },
    {
     "name": "stderr",
     "output_type": "stream",
     "text": [
      "Computing OMS frames: 100%|██████████| 580/580 [00:01<00:00, 535.89it/s]\n"
     ]
    },
    {
     "name": "stdout",
     "output_type": "stream",
     "text": [
      "neuroscience\n",
      "gaussian_filter \n",
      "\n",
      "oms_threshold: 0.8710262068965517\n",
      "torch.Size([1, 2666, 1, 260, 346]) torch.Size([1, 2666, 1, 260, 346]) ('seq_00_frames',)\n"
     ]
    },
    {
     "name": "stderr",
     "output_type": "stream",
     "text": [
      "Computing OMS frames: 100%|██████████| 580/580 [00:01<00:00, 524.83it/s]\n"
     ]
    },
    {
     "name": "stdout",
     "output_type": "stream",
     "text": [
      "neuroscience\n",
      "gaussian_filter \n",
      "\n",
      "oms_threshold: 0.8948189655172414\n",
      "torch.Size([1, 2666, 1, 260, 346]) torch.Size([1, 2666, 1, 260, 346]) ('seq_00_frames',)\n"
     ]
    },
    {
     "name": "stderr",
     "output_type": "stream",
     "text": [
      "Computing OMS frames: 100%|██████████| 580/580 [00:01<00:00, 533.48it/s]\n"
     ]
    },
    {
     "name": "stdout",
     "output_type": "stream",
     "text": [
      "neuroscience\n",
      "gaussian_filter \n",
      "\n",
      "oms_threshold: 0.9186117241379312\n",
      "torch.Size([1, 2666, 1, 260, 346]) torch.Size([1, 2666, 1, 260, 346]) ('seq_00_frames',)\n"
     ]
    },
    {
     "name": "stderr",
     "output_type": "stream",
     "text": [
      "Computing OMS frames: 100%|██████████| 580/580 [00:01<00:00, 560.64it/s]\n"
     ]
    },
    {
     "name": "stdout",
     "output_type": "stream",
     "text": [
      "neuroscience\n",
      "gaussian_filter \n",
      "\n",
      "oms_threshold: 0.9424044827586209\n",
      "torch.Size([1, 2666, 1, 260, 346]) torch.Size([1, 2666, 1, 260, 346]) ('seq_00_frames',)\n"
     ]
    },
    {
     "name": "stderr",
     "output_type": "stream",
     "text": [
      "Computing OMS frames: 100%|██████████| 580/580 [00:01<00:00, 559.66it/s]\n"
     ]
    },
    {
     "name": "stdout",
     "output_type": "stream",
     "text": [
      "neuroscience\n",
      "gaussian_filter \n",
      "\n",
      "oms_threshold: 0.9661972413793105\n",
      "torch.Size([1, 2666, 1, 260, 346]) torch.Size([1, 2666, 1, 260, 346]) ('seq_00_frames',)\n"
     ]
    },
    {
     "name": "stderr",
     "output_type": "stream",
     "text": [
      "Computing OMS frames: 100%|██████████| 580/580 [00:01<00:00, 524.77it/s]\n"
     ]
    },
    {
     "name": "stdout",
     "output_type": "stream",
     "text": [
      "neuroscience\n",
      "gaussian_filter \n",
      "\n",
      "oms_threshold: 0.98999\n",
      "torch.Size([1, 2666, 1, 260, 346]) torch.Size([1, 2666, 1, 260, 346]) ('seq_00_frames',)\n"
     ]
    },
    {
     "name": "stderr",
     "output_type": "stream",
     "text": [
      "Computing OMS frames: 100%|██████████| 580/580 [00:01<00:00, 540.54it/s]\n"
     ]
    },
    {
     "data": {
      "text/plain": "<Figure size 640x480 with 1 Axes>",
      "image/png": "[encoded data removed]"
     },
     "metadata": {},
     "output_type": "display_data"
    },
    {
     "data": {
      "text/plain": "<Figure size 640x480 with 1 Axes>",
      "image/png": "[encoded data removed]"
     },
     "metadata": {},
     "output_type": "display_data"
    },
    {
     "data": {
      "text/plain": "<Figure size 640x480 with 1 Axes>",
      "image/png": "[encoded data removed]"
     },
     "metadata": {},
     "output_type": "display_data"
    }
   ],
   "source": [
    "import torchvision\n",
    "import matplotlib.pyplot as plt\n",
    "\n",
    "\n",
    "# iterate through different types of kernels\n",
    "for kernel, (kernel_func, activ_func, stride, threshold) in kernels.items():\n",
    "    \n",
    "    fig, ax = plt.subplots()\n",
    "    y_ssim_hist = []\n",
    "    \n",
    "    if kernel == \"hardware\" or kernel == \"circle_1_.5\":\n",
    "        x = np.linspace(.01, 4, 60)\n",
    "    else:\n",
    "        x = np.linspace(.3, .98999, 30)\n",
    "    \n",
    "    for i in range(len(x)):\n",
    "        ssim_hist: list[float] = []\n",
    "    \n",
    "        print(kernel)\n",
    "        print(kernel_func.__name__, \"\\n\")\n",
    "        print(f\"oms_threshold: {x[i]}\")\n",
    "    \n",
    "        data, targets, file_name = next(iter(loader))\n",
    "        # file_name is the name of the video file, like data_1 or data_2 etc...\n",
    "        # join the params folder dir and the data name (data_N)\n",
    "        params_file = os.path.join(params_dir)\n",
    "    \n",
    "        print(f\"{data.shape} {targets.shape} {file_name}\")\n",
    "    \n",
    "        # Data shape is (1, time steps, 180, 240)\n",
    "        data, targets = data.squeeze(), targets.squeeze()  # remove batch dim\n",
    "    \n",
    "        # if there is not a folder for the results, make one\n",
    "        if not os.path.exists(os.path.join(save_dir, file_name[0])):\n",
    "            os.mkdir(os.path.join(save_dir, file_name[0]))\n",
    "        # else:\n",
    "        #     print(\"WARNING: Files exists in results directory please check (will not overwrite)\")\n",
    "        #     sys.exit()\n",
    "        \n",
    "    \n",
    "        oms_frames = oms(\n",
    "            params_dir=params_file + '.yaml',\n",
    "            save_dir=os.path.join(os.getcwd(), 'results/', file_name[0] + \"/\", file_name[0] + f\"_{kernel}\"),\n",
    "            dvs_frames=data,\n",
    "            compile_video=False,\n",
    "            num_frames=580,\n",
    "            filter_func=kernel_func,\n",
    "            activation_func=activ_func,\n",
    "            fps=fps,\n",
    "            width=width,\n",
    "            height=height,\n",
    "            center_rad=center_kernel_radius,\n",
    "            surround_rad=surround_kernel_radius,\n",
    "            oms_threshold=x[i],\n",
    "            stride=stride,  # figure out what hardware stride should do\n",
    "        )\n",
    "    \n",
    "        num_frames = oms_frames.shape[0]  # number of frames in the video\n",
    "        ssim_hist = []\n",
    "        spike_rate_hist = []\n",
    "        phash_hist = []\n",
    "\n",
    "        # iterate through the frames and calculate the metrics comparing the oms frames to the target frames\n",
    "        for ind in range(num_frames):\n",
    "            if stride != 1:\n",
    "                target = torchvision.transforms.Resize(\n",
    "                    (int(height / stride), int(width / stride))\n",
    "                )(targets[ind][np.newaxis, np.newaxis, ...]).numpy()\n",
    "            else:\n",
    "                target = targets[ind].numpy()\n",
    "\n",
    "            if oms_frames[ind].shape != target.squeeze().shape:\n",
    "                print(\"WARNING: OMS frame and target frame are not the same size\")\n",
    "                print(f\"OMS frame shape: {oms_frames[ind].shape}\")\n",
    "                print(f\"Target frame shape: {target.squeeze().shape}\")\n",
    "\n",
    "            acc = SSIM(oms_frames[ind], target.squeeze(), data_range=1.)\n",
    "            spike_rate = spike_rate_metric(oms_frames[ind])\n",
    "            phash = phash_comp(oms_frames[ind], target.squeeze())\n",
    "            ssim_hist.append(acc)\n",
    "            spike_rate_hist.append(spike_rate)\n",
    "            phash_hist.append(phash)\n",
    "        \n",
    "         # calculate the average of the metrics\n",
    "        ssim_avg = np.mean(np.stack(ssim_hist))\n",
    "        y_ssim_hist.append(ssim_avg)\n",
    "    \n",
    "    ax.plot(x, y_ssim_hist)\n",
    "    plt.ylim([0, 1.0])\n",
    "    plt.title(f\"SSIM vs OMS Threshold for {kernel} kernel\")\n",
    "    plt.xlabel(\"OMS Threshold\")\n",
    "    plt.ylabel(\"SSIM\")\n",
    "    plt.savefig(os.path.join(os.getcwd(), 'results/', f\"{kernel}_metrics.png\"))      \n",
    "    "
   ],
   "metadata": {
    "collapsed": false,
    "ExecuteTime": {
     "end_time": "2023-09-14T02:33:30.319718862Z",
     "start_time": "2023-09-14T02:24:49.646202130Z"
    }
   },
   "id": "5bedf54539ac0f3"
  },
  {
   "cell_type": "code",
   "execution_count": null,
   "outputs": [],
   "source": [],
   "metadata": {
    "collapsed": false
   },
   "id": "c3571481ef447946"
  }
 ],
 "metadata": {
  "kernelspec": {
   "display_name": "Python 3",
   "language": "python",
   "name": "python3"
  },
  "language_info": {
   "codemirror_mode": {
    "name": "ipython",
    "version": 2
   },
   "file_extension": ".py",
   "mimetype": "text/x-python",
   "name": "python",
   "nbconvert_exporter": "python",
   "pygments_lexer": "ipython2",
   "version": "2.7.6"
  }
 },
 "nbformat": 4,
 "nbformat_minor": 5
}
